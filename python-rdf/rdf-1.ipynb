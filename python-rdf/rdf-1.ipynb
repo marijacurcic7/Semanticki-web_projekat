{
 "cells": [
  {
   "cell_type": "markdown",
   "metadata": {},
   "source": [
    "# Save courses to RDF"
   ]
  },
  {
   "cell_type": "markdown",
   "metadata": {},
   "source": [
    "## Read data from Firestore"
   ]
  },
  {
   "cell_type": "code",
   "execution_count": 1,
   "metadata": {},
   "outputs": [],
   "source": [
    "# init\n",
    "from os import environ\n",
    "environ['FIRESTORE_EMULATOR_HOST'] = 'localhost:8080'\n",
    "environ['FIREBASE_AUTH_EMULATOR_HOST'] = 'localhost:8083'\n",
    "environ['GOOGLE_APPLICATION_CREDENTIALS'] = '../serviceAccountKey.json'\n",
    "\n",
    "import firebase_admin\n",
    "from firebase_admin import firestore, initialize_app, credentials\n",
    "\n",
    "if not firebase_admin._apps:\n",
    "    cred = credentials.ApplicationDefault()\n",
    "    initialize_app(cred)\n",
    "\n",
    "db = firestore.client()"
   ]
  },
  {
   "cell_type": "code",
   "execution_count": 2,
   "metadata": {},
   "outputs": [
    {
     "data": {
      "text/plain": [
       "'softversko inzenjerstvo i informacione tehnologije'"
      ]
     },
     "execution_count": 2,
     "metadata": {},
     "output_type": "execute_result"
    }
   ],
   "source": [
    "# get a program\n",
    "siit_ref = db.collection(u'programs').document(u'siit')\n",
    "program = siit_ref.get().to_dict()\n",
    "program['naziv']"
   ]
  },
  {
   "cell_type": "code",
   "execution_count": 3,
   "metadata": {},
   "outputs": [],
   "source": [
    "# get courses\n",
    "courses_snapshot = siit_ref.collection(u'courses').stream()\n",
    "courses = [course.to_dict() for course in courses_snapshot]"
   ]
  },
  {
   "cell_type": "markdown",
   "metadata": {},
   "source": [
    "Helper Functions"
   ]
  },
  {
   "cell_type": "code",
   "execution_count": 4,
   "metadata": {},
   "outputs": [],
   "source": [
    "from re import compile\n",
    "def date_to_xsd_date(string_with_date):\n",
    "    p = compile('(\\d{2}).(\\d{2}).(\\d{4}).')\n",
    "    day, month, year = p.search(string_with_date).groups()\n",
    "    return f'{year}-{month}-{day}'"
   ]
  },
  {
   "cell_type": "markdown",
   "metadata": {},
   "source": [
    "## Write program to rdf"
   ]
  },
  {
   "cell_type": "code",
   "execution_count": 5,
   "metadata": {},
   "outputs": [],
   "source": [
    "from rdflib import *\n",
    "from Aiiso import Aiiso\n",
    "from University import University\n",
    "from rdflib.collection import Collection\n",
    "g = Graph()\n",
    "g.bind('dc', DC)\n",
    "g.bind('foaf', FOAF)\n",
    "g.bind('aiiso', 'http://purl.org/vocab/aiiso/schema#')\n",
    "g.bind('uni', 'http://www.semanticweb.org/marija/ontologies/2021/university')"
   ]
  },
  {
   "cell_type": "code",
   "execution_count": 6,
   "metadata": {},
   "outputs": [
    {
     "name": "stdout",
     "output_type": "stream",
     "text": [
      "@prefix aiiso: <http://purl.org/vocab/aiiso/schema#> .\n",
      "@prefix uni: <http://www.semanticweb.org/marija/ontologies/2021/university> .\n",
      "@prefix xsd: <http://www.w3.org/2001/XMLSchema#> .\n",
      "\n",
      "<http://www.ftn.uns.ac.rs/875535517/softversko-inzenjerstvo-i-informacione-tehnologije?period=z> a aiiso:Programme ;\n",
      "    aiiso:Module \"softversko inzenjerstvo i informacione tehnologije\" ;\n",
      "    uni:Domain \"Elektrotehničko i računarsko inženjerstvo\" ;\n",
      "    uni:ESPB 240 ;\n",
      "    uni:Field \"Tehničko-tehnološke nauke\" ;\n",
      "    uni:LevelOfStudy \"Osnovne akademske studije\" ;\n",
      "    uni:Semesters 8 ;\n",
      "    uni:Title \"Diplomirani inženjer softvera (Dipl.inž.softv.)\" .\n",
      "\n",
      "\n"
     ]
    },
    {
     "data": {
      "text/plain": [
       "<Graph identifier=Nf0a3755a00ee45df8ddb5cdd5b28aa0d (<class 'rdflib.graph.Graph'>)>"
      ]
     },
     "execution_count": 6,
     "metadata": {},
     "output_type": "execute_result"
    }
   ],
   "source": [
    "program_node = URIRef(program['url'])\n",
    "\n",
    "g.add((program_node, RDF.type, Aiiso.Programme))\n",
    "g.add((program_node, Aiiso.Module, Literal(program['naziv'])))\n",
    "g.add((program_node, University.ESPB, Literal(program['espb'])))\n",
    "g.add((program_node, University.Semesters, Literal(program['brojSemestara'])))\n",
    "g.add((program_node, University.Domain, Literal(program['naucnoStrucneOblasti'])))\n",
    "g.add((program_node, University.LevelOfStudy, Literal(program['nivoStudija'])))\n",
    "g.add((program_node, University.Field, Literal(program['obrazovnoPolje'])))\n",
    "g.add((program_node, University.Title, Literal(program['zvanje'])))\n",
    "\n",
    "g.serialize(format='turtle', destination=\"program.ttl\")\n",
    "print(g.serialize(format='turtle'))\n",
    "g.remove((program_node, None, None))"
   ]
  },
  {
   "cell_type": "markdown",
   "metadata": {},
   "source": [
    "## Write courses to rdf"
   ]
  },
  {
   "cell_type": "code",
   "execution_count": 7,
   "metadata": {},
   "outputs": [],
   "source": [
    "g1 = Graph()\n",
    "g1.bind('dc', DC)\n",
    "g1.bind('foaf', FOAF)\n",
    "g1.bind('aiiso', 'http://purl.org/vocab/aiiso/schema#')\n",
    "g1.bind('uni', 'http://www.semanticweb.org/marija/ontologies/2021/university')"
   ]
  },
  {
   "cell_type": "code",
   "execution_count": 8,
   "metadata": {},
   "outputs": [],
   "source": [
    "def addProfessors(course):\n",
    "    professors = course['izvodjaciNastave']\n",
    "    professor_node = BNode()\n",
    "\n",
    "    for prof in professors:\n",
    "        list_item = BNode()\n",
    "\n",
    "        g1.add((course_node, FOAF.Person, list_item))\n",
    "        g1.add((list_item, FOAF.name, Literal(prof['punoIme'])))\n",
    "        g1.add((list_item, FOAF.title, Literal(prof['zvanje'])))\n",
    "        g1.add((list_item, University.TypeOfTeaching, Literal(prof['vidNastave'])))"
   ]
  },
  {
   "cell_type": "code",
   "execution_count": 9,
   "metadata": {},
   "outputs": [],
   "source": [
    "def addLiterature(course):\n",
    "    literature = course['literatura']\n",
    "    literature_node = BNode()\n",
    "\n",
    "    for lit in literature:\n",
    "        list_item = BNode()\n",
    "\n",
    "        g1.add((course_node, University.Literature, list_item))\n",
    "        g1.add((list_item, DC.creator, Literal(lit['autori'])))\n",
    "        g1.add((list_item, DC.title, Literal(lit['naziv'])))\n",
    "        g1.add((list_item, DC.date, Literal(lit['godina'])))\n",
    "        g1.add((list_item, DC.publisher, Literal(lit['izdavac'])))\n",
    "        g1.add((list_item, DC.language, Literal(lit['jezik'])))"
   ]
  },
  {
   "cell_type": "code",
   "execution_count": 10,
   "metadata": {},
   "outputs": [],
   "source": [
    "def addEvaluation(course):\n",
    "    evaluation = course['formiranjeOcene']\n",
    "    evaluation_node = BNode()\n",
    "\n",
    "    for e in evaluation:\n",
    "        list_item = BNode()\n",
    "\n",
    "        g1.add((course_node, University.Evaluation, list_item))\n",
    "        g1.add((list_item, University.Points, Literal(e['brojPoena'])))\n",
    "        g1.add((list_item, University.Required, Literal(e['obavezna'])))\n",
    "        g1.add((list_item, University.PreExamination, Literal(e['predispitna'])))\n",
    "        g1.add((list_item, University.Activity, Literal(e['predmetnaAktivnost'])))"
   ]
  },
  {
   "cell_type": "code",
   "execution_count": 11,
   "metadata": {},
   "outputs": [],
   "source": [
    "for i, course in enumerate(courses[30:32]):\n",
    "    dest = \"courses\" + str(i) + \".ttl\"\n",
    "    course_node = URIRef(course['url'])\n",
    "\n",
    "    g1.add((course_node, RDF.type, Aiiso.Course))\n",
    "    g1.add((course_node, DC.title, Literal(course['naziv'])))\n",
    "    g1.add((course_node, DC.description, Literal(course['sadrzaj'])))\n",
    "    g1.add((course_node,DC.date, Literal(date_to_xsd_date(course['osnovneInformacije']), datatype=XSD.date)))\n",
    "    g1.add((course_node, DC.subject, Literal(course['naucnaOblast'])))\n",
    "    g1.add((course_node, DC.type, Literal(course['kategorija'])))\n",
    "\n",
    "    g1.add((course_node, University.Purpose, Literal(course['cilj'])))\n",
    "    g1.add((course_node, University.ESPB, Literal(course['espb'])))\n",
    "    g1.add((course_node, University.Year, Literal(course['godina'])))\n",
    "    g1.add((course_node, University.Result, Literal(course['ishod'])))\n",
    "    g1.add((course_node, University.Methodology, Literal(course['metodologijaIzvodjenjaNastave'])))\n",
    "    g1.add((course_node, University.Semester, Literal(course['semestar'])))\n",
    "    \n",
    "    addProfessors(course)\n",
    "    addLiterature(course)\n",
    "    addEvaluation(course)\n",
    "    \n",
    "    g1.serialize(format='turtle', destination=dest)\n",
    "    g1.remove((course_node, None, None))\n",
    "    \n",
    "# ttl_dump = g1.serialize(format=\"turtle\", destination='course.ttl')\n",
    "# print(ttl_dump)"
   ]
  },
  {
   "cell_type": "code",
   "execution_count": null,
   "metadata": {},
   "outputs": [],
   "source": []
  }
 ],
 "metadata": {
  "interpreter": {
   "hash": "0f004fffeac064b2498a7ed2c5239d8895a7d270f75a0962253b0f63a90dd27b"
  },
  "kernelspec": {
   "display_name": "Python 3 (ipykernel)",
   "language": "python",
   "name": "python3"
  },
  "language_info": {
   "codemirror_mode": {
    "name": "ipython",
    "version": 3
   },
   "file_extension": ".py",
   "mimetype": "text/x-python",
   "name": "python",
   "nbconvert_exporter": "python",
   "pygments_lexer": "ipython3",
   "version": "3.9.5"
  }
 },
 "nbformat": 4,
 "nbformat_minor": 2
}
