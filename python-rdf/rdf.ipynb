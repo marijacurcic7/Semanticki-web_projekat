{
 "cells": [
  {
   "cell_type": "markdown",
   "metadata": {},
   "source": [
    "# Save courses to RDF"
   ]
  },
  {
   "cell_type": "markdown",
   "metadata": {},
   "source": [
    "## Read data from Firestore"
   ]
  },
  {
   "cell_type": "code",
   "execution_count": 1,
   "metadata": {},
   "outputs": [],
   "source": [
    "# init\n",
    "from os import environ\n",
    "environ['FIRESTORE_EMULATOR_HOST'] = 'localhost:8080'\n",
    "environ['FIREBASE_AUTH_EMULATOR_HOST'] = 'localhost:8083'\n",
    "environ['GOOGLE_APPLICATION_CREDENTIALS'] = '../serviceAccountKey.json'\n",
    "\n",
    "from firebase_admin import firestore, initialize_app, credentials\n",
    "cred = credentials.ApplicationDefault()\n",
    "initialize_app(cred)\n",
    "db = firestore.client()"
   ]
  },
  {
   "cell_type": "code",
   "execution_count": 9,
   "metadata": {},
   "outputs": [
    {
     "data": {
      "text/plain": [
       "'softversko inzenjerstvo i informacione tehnologije'"
      ]
     },
     "execution_count": 9,
     "metadata": {},
     "output_type": "execute_result"
    }
   ],
   "source": [
    "# get a program\n",
    "siit_ref = db.collection(u'programs').document(u'siit')\n",
    "program = siit_ref.get().to_dict()\n",
    "program['naziv']"
   ]
  },
  {
   "cell_type": "code",
   "execution_count": 17,
   "metadata": {},
   "outputs": [
    {
     "data": {
      "text/plain": [
       "'Završni rad - izrada i odbrana'"
      ]
     },
     "execution_count": 17,
     "metadata": {},
     "output_type": "execute_result"
    }
   ],
   "source": [
    "# get courses\n",
    "courses_snapshot = siit_ref.collection(u'courses').stream()\n",
    "courses = [course.to_dict() for course in courses_snapshot]\n",
    "courses[0]['naziv']"
   ]
  },
  {
   "cell_type": "markdown",
   "metadata": {},
   "source": [
    "## Write courses to rdf"
   ]
  },
  {
   "cell_type": "markdown",
   "metadata": {},
   "source": [
    "Simple rdflib example"
   ]
  },
  {
   "cell_type": "code",
   "execution_count": 33,
   "metadata": {},
   "outputs": [
    {
     "name": "stdout",
     "output_type": "stream",
     "text": [
      "@prefix foaf: <http://xmlns.com/foaf/0.1/> .\n",
      "@prefix xsd: <http://www.w3.org/2001/XMLSchema#> .\n",
      "\n",
      "<http://example.org/people/Bob> a foaf:Person ;\n",
      "    foaf:age 24 ;\n",
      "    foaf:knows [ a foaf:Person ;\n",
      "            foaf:name \"LINDA\" ] ;\n",
      "    foaf:name \"Bob\" .\n",
      "\n",
      "\n",
      "-----------\n",
      "24\n",
      "@prefix foaf: <http://xmlns.com/foaf/0.1/> .\n",
      "\n",
      "[] a foaf:Person ;\n",
      "    foaf:name \"LINDA\" .\n",
      "\n",
      "\n",
      "-----------\n"
     ]
    }
   ],
   "source": [
    "from rdflib import *\n",
    "\n",
    "# create Bob & Linda\n",
    "bob = URIRef('http://example.org/people/Bob')\n",
    "linda = BNode()\n",
    "\n",
    "# create Literals\n",
    "name = Literal('Bob')\n",
    "age = Literal(24)\n",
    "height = Literal(180)\n",
    "\n",
    "# create graph & add namespace\n",
    "g = Graph()\n",
    "g.bind('foaf', FOAF)\n",
    "\n",
    "# add Bob & Linda to the graph\n",
    "g.add((bob, RDF.type, FOAF.Person))\n",
    "g.set((bob, FOAF.name, name))\n",
    "g.set((bob, FOAF.age, age))\n",
    "g.add((bob, FOAF.knows, linda))\n",
    "g.add((linda, RDF.type, FOAF.Person))\n",
    "g.set((linda, FOAF.name, Literal('LINDA')))\n",
    "\n",
    "# write graph to file\n",
    "g.serialize(destination='program.ttl')\n",
    "\n",
    "# print graph, print values in graph\n",
    "print(g.serialize(), end='\\n-----------\\n')\n",
    "print(g.value(bob, FOAF.age))\n",
    "\n",
    "# remove all triples about bob\n",
    "g.remove((bob, None, None)) \n",
    "print(g.serialize(), end='\\n-----------\\n')"
   ]
  },
  {
   "cell_type": "code",
   "execution_count": 57,
   "metadata": {},
   "outputs": [
    {
     "name": "stdout",
     "output_type": "stream",
     "text": [
      "[{'zvanje': 'Redovni profesor', 'punoIme': 'Grubić-Nešić dr Leposava', 'vidNastave': 'Predavanja'}, {'zvanje': 'Vanredni profesor', 'vidNastave': 'Predavanja', 'punoIme': 'Katić dr Ivana'}, {'zvanje': 'Vanredni profesor', 'punoIme': 'Katić dr Ivana', 'vidNastave': 'Auditorne vežbe'}]\n",
      "@prefix dc: <http://purl.org/dc/elements/1.1/> .\n",
      "\n",
      "<http://www.ftn.uns.ac.rs/n636239540/zavrsni-rad---izrada-i-odbrana> a <http://www.w3.org/2002/07/owl#Ontology> ;\n",
      "    dc:description \"Formira se pojedinačno u skladu sa potrebama i oblašću koja je obuhvaćena zadatom temom završnog rada. Student u dogovoru sa mentorom sačinjava završni rad u pismenoj formi u skladu sa predviđenim standardima Fakulteta tehničkih nauka. Student priprema i brani pismeni završni rad javno u dogovoru sa mentorom i u skladu sa predviđenim standardima. Student proučava stručnu literaturu, stručne i diplomske radove studenata koji se bave sličnom tematikom, vrši analize u cilju iznalaženja rešenja konkretnog zadatka koji je definisan zadatkom završnog rada.\" ;\n",
      "    dc:title \"Završni rad - izrada i odbrana\" .\n",
      "\n",
      "<http://www.ftn.uns.ac.rs/n651874809/industrijska-psihologija> a <http://www.w3.org/2002/07/owl#Ontology> ;\n",
      "    dc:description \"Uloga industrijske psihologije u poslovanju: definicija, predmet i ciljevi industrijske psihologije; istorijski razvoj; fiziološki i psihološki aspekti rada; cirkadijalni ritmovi i individualne razlike. Prilagođavanje čoveka radu: metode prilagođavanja čoveka radu; analiza posla-osnova prilagođavanja čoveka radu; metode procene radnika i radnih mesta; oblikovanje poslova i organizacija rada; dizajn posla; uloga apsentizma i fluktuacije; radna adaptacija. Radna sposobnost zaposlenih: tehnike redizajniranja posla; patologija rada; umor i monotonija; bezbednost na radu; povrede na radu, prevencija nesreće na radu. Čovek u savremenim tehnološkim sistemima: sistem čovek-mašina; efikasnost sistema; komunikacija u sistemu; tačnost, pouzdanost, raspodela uloga u sistemu; mentalni modeli operatora.\" ;\n",
      "    dc:title \"Industrijska psihologija\" .\n",
      "\n",
      "\n"
     ]
    }
   ],
   "source": [
    "g = Graph()\n",
    "g.bind('dc', DC)\n",
    "professors = courses[1]['izvodjaciNastave']\n",
    "print(professors)\n",
    "\n",
    "for course in courses[:2]:\n",
    "    course_node = URIRef(course['url'])\n",
    "\n",
    "    g.add((course_node, RDF.type, OWL.Ontology))\n",
    "    g.add((course_node, DC.title, Literal(course['naziv'])))\n",
    "    g.add((course_node, DC.description, Literal(course['sadrzaj'])))\n",
    "\n",
    "\n",
    "print(g.serialize(format='turtle'))\n",
    "# print(g.serialize(format='turtle', destination='courses.ttl'))\n"
   ]
  }
 ],
 "metadata": {
  "interpreter": {
   "hash": "0f004fffeac064b2498a7ed2c5239d8895a7d270f75a0962253b0f63a90dd27b"
  },
  "kernelspec": {
   "display_name": "Python 3.10.0 64-bit ('.venv': venv)",
   "language": "python",
   "name": "python3"
  },
  "language_info": {
   "codemirror_mode": {
    "name": "ipython",
    "version": 3
   },
   "file_extension": ".py",
   "mimetype": "text/x-python",
   "name": "python",
   "nbconvert_exporter": "python",
   "pygments_lexer": "ipython3",
   "version": "3.10.0"
  },
  "orig_nbformat": 4
 },
 "nbformat": 4,
 "nbformat_minor": 2
}
