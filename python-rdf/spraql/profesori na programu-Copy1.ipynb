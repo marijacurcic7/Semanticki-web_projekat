{
 "cells": [
  {
   "cell_type": "raw",
   "metadata": {},
   "source": [
    "# Q10 - Studenti na predmetu"
   ]
  },
  {
   "cell_type": "code",
   "execution_count": 1,
   "metadata": {},
   "outputs": [
    {
     "data": {
      "text/plain": [
       "<Graph identifier=Nba3470cc48c24c379445e479b1828983 (<class 'rdflib.graph.Graph'>)>"
      ]
     },
     "execution_count": 1,
     "metadata": {},
     "output_type": "execute_result"
    }
   ],
   "source": [
    "# init\n",
    "from rdflib import *\n",
    "\n",
    "# create graph\n",
    "g = Graph()\n",
    "g.parse('../uni.ttl')"
   ]
  },
  {
   "cell_type": "code",
   "execution_count": 7,
   "metadata": {},
   "outputs": [
    {
     "data": {
      "text/plain": [
       "['Nenad Nenadovic', 'Petar Petrovic']"
      ]
     },
     "execution_count": 7,
     "metadata": {},
     "output_type": "execute_result"
    }
   ],
   "source": [
    "query = \"\"\"\n",
    "        SELECT DISTINCT ?name\n",
    "        WHERE {\n",
    "            ?take a uni:Take .\n",
    "            ?take uni:doneBy ?student .\n",
    "            ?take uni:partOf ?test .\n",
    "            ?test uni:partOf ?course .\n",
    "            ?course a aiiso:Course .\n",
    "            ?course dc:title ?courseName .\n",
    "            ?student foaf:name ?name .\n",
    "            FILTER (?courseName='%s') .\n",
    "        } \n",
    "    \"\"\" % (\"Osnove programiranja\")\n",
    "result = g.query(query)\n",
    "[row.name.value for row in result]"
   ]
  },
  {
   "cell_type": "code",
   "execution_count": null,
   "metadata": {},
   "outputs": [],
   "source": []
  }
 ],
 "metadata": {
  "interpreter": {
   "hash": "1894a7d4a65cd656ab7c7aa425de0718b6b169d832cbc29a7b350b21d32f5ef8"
  },
  "kernelspec": {
   "display_name": "Python 3 (ipykernel)",
   "language": "python",
   "name": "python3"
  },
  "language_info": {
   "codemirror_mode": {
    "name": "ipython",
    "version": 3
   },
   "file_extension": ".py",
   "mimetype": "text/x-python",
   "name": "python",
   "nbconvert_exporter": "python",
   "pygments_lexer": "ipython3",
   "version": "3.9.5"
  }
 },
 "nbformat": 4,
 "nbformat_minor": 2
}
