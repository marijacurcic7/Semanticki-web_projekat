{
 "cells": [
  {
   "cell_type": "markdown",
   "metadata": {},
   "source": [
    "# Q3 - Vrati sve predmete koji imaju vise od 3 knjige"
   ]
  },
  {
   "cell_type": "code",
   "execution_count": 1,
   "metadata": {},
   "outputs": [
    {
     "data": {
      "text/plain": [
       "<Graph identifier=Na525b2731ff14264a238d3e3dfd05fca (<class 'rdflib.graph.Graph'>)>"
      ]
     },
     "execution_count": 1,
     "metadata": {},
     "output_type": "execute_result"
    }
   ],
   "source": [
    "# init\n",
    "from rdflib import *\n",
    "\n",
    "# create graph\n",
    "g = Graph()\n",
    "g.parse('../uni.ttl')"
   ]
  },
  {
   "cell_type": "code",
   "execution_count": 108,
   "metadata": {},
   "outputs": [
    {
     "data": {
      "text/plain": [
       "[('Industrijska psihologija', '5')]"
      ]
     },
     "execution_count": 108,
     "metadata": {},
     "output_type": "execute_result"
    }
   ],
   "source": [
    "query = \"\"\"\n",
    "SELECT ?courseTitle (count(?book) as ?bookCount)\n",
    "WHERE {\n",
    "  ?course a aiiso:Course .\n",
    "  ?course dc:title ?courseTitle .\n",
    "  ?course uni:hasLiterature ?literature .\n",
    "  ?literature uni:booksList ?book .\n",
    "  ?book dc:title ?bookTitle .\n",
    "}\n",
    "GROUP BY ?courseTitle\n",
    "HAVING (count(?book) > 3)\n",
    "\"\"\"\n",
    "result = g.query(query)\n",
    "[(str(row.courseTitle), str(row.bookCount)) for row in result]"
   ]
  }
 ],
 "metadata": {
  "interpreter": {
   "hash": "1894a7d4a65cd656ab7c7aa425de0718b6b169d832cbc29a7b350b21d32f5ef8"
  },
  "kernelspec": {
   "display_name": "Python 3.10.0 64-bit ('.venv': venv)",
   "language": "python",
   "name": "python3"
  },
  "language_info": {
   "name": "python",
   "version": "3.10.0"
  },
  "orig_nbformat": 4
 },
 "nbformat": 4,
 "nbformat_minor": 2
}
