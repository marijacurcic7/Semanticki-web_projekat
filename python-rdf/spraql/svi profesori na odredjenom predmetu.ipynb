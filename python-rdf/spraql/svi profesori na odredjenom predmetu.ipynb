{
 "cells": [
  {
   "cell_type": "markdown",
   "metadata": {},
   "source": [
    "# Q1 - Vrati sve profesore na nekom predmetu"
   ]
  },
  {
   "cell_type": "code",
   "execution_count": 8,
   "metadata": {},
   "outputs": [
    {
     "data": {
      "text/plain": [
       "<Graph identifier=N4324fbf5d2ab4f5abfe27cdcce4a27d3 (<class 'rdflib.graph.Graph'>)>"
      ]
     },
     "execution_count": 8,
     "metadata": {},
     "output_type": "execute_result"
    }
   ],
   "source": [
    "# init\n",
    "from rdflib import *\n",
    "\n",
    "# create graph\n",
    "g = Graph()\n",
    "g.parse('../uni.ttl')"
   ]
  },
  {
   "cell_type": "code",
   "execution_count": 2,
   "metadata": {},
   "outputs": [
    {
     "name": "stdout",
     "output_type": "stream",
     "text": [
      "Bašičević dr Ilija\n",
      "Grubić-Nešić dr Leposava\n",
      "Katić dr Ivana\n"
     ]
    }
   ],
   "source": [
    "# vrati sve profesore\n",
    "query = \"\"\"\n",
    "SELECT DISTINCT ?name\n",
    "WHERE {\n",
    "  ?person foaf:name ?name .\n",
    "  ?person foaf:title ?title .\n",
    "  FILTER  regex(?title, \"profesor\")\n",
    "}\n",
    "\"\"\"\n",
    "\n",
    "result = g.query(query)\n",
    "for row in result:\n",
    "  print(row.name)"
   ]
  },
  {
   "cell_type": "code",
   "execution_count": 10,
   "metadata": {},
   "outputs": [
    {
     "name": "stdout",
     "output_type": "stream",
     "text": [
      "Bašičević dr Ilija\n"
     ]
    },
    {
     "data": {
      "text/plain": [
       "['Bašičević dr Ilija']"
      ]
     },
     "execution_count": 10,
     "metadata": {},
     "output_type": "execute_result"
    }
   ],
   "source": [
    "# vrati sve profesore na odredjenom predmetu\n",
    "subject_name = 'Međuračunarske komunikacije i računarske mreže 1'\n",
    "\n",
    "# uzmi kurs za prosledjeno ime kursa, koji ima cvor teachers na relaciji hasTeachers\n",
    "# nad cvorom teachers uzmi sve osobe koje se nalaze na relaciji uni:teachers\n",
    "# vrati ime osobe cija titula sadrzi rec profesor (moze biti redovni profesor ili vanredni profesor)\n",
    "query = \"\"\"\n",
    "SELECT DISTINCT ?name\n",
    "WHERE {\n",
    "  ?course a aiiso:Course .\n",
    "  ?course dc:title ?courseName .\n",
    "  ?course uni:hasTeachers ?teachers .\n",
    "  ?teachers uni:teachersList ?person .\n",
    "  ?person foaf:title ?title .\n",
    "  ?person foaf:name ?name .\n",
    "  FILTER (?courseName='%s') .\n",
    "  FILTER regex(?title, \"profesor\") .\n",
    "}\n",
    "\"\"\" % (subject_name)\n",
    "\n",
    "result = g.query(query)\n",
    "\n",
    "\n",
    "# printuj rezultat\n",
    "for row in result:\n",
    "    print(row.name)\n",
    "\n",
    "# sacuvaj u promenljivu\n",
    "teachers = [str(row.name) for row in result]\n",
    "teachers\n"
   ]
  },
  {
   "cell_type": "code",
   "execution_count": 13,
   "metadata": {},
   "outputs": [
    {
     "data": {
      "text/plain": [
       "['Međuračunarske komunikacije i računarske mreže 1',\n",
       " 'Završni rad - izrada i odbrana',\n",
       " 'Industrijska psihologija']"
      ]
     },
     "execution_count": 13,
     "metadata": {},
     "output_type": "execute_result"
    }
   ],
   "source": [
    "# vrati sve predmete\n",
    "query = \"\"\"\n",
    "SELECT DISTINCT ?name\n",
    "WHERE {\n",
    "  ?course a aiiso:Course .\n",
    "  ?course dc:title ?name .\n",
    "}\n",
    "\"\"\"\n",
    "\n",
    "result = g.query(query)\n",
    "courses = [str(row.name) for row in result]\n",
    "courses"
   ]
  }
 ],
 "metadata": {
  "interpreter": {
   "hash": "1894a7d4a65cd656ab7c7aa425de0718b6b169d832cbc29a7b350b21d32f5ef8"
  },
  "kernelspec": {
   "display_name": "Python 3.10.0 64-bit ('.venv': venv)",
   "language": "python",
   "name": "python3"
  },
  "language_info": {
   "codemirror_mode": {
    "name": "ipython",
    "version": 3
   },
   "file_extension": ".py",
   "mimetype": "text/x-python",
   "name": "python",
   "nbconvert_exporter": "python",
   "pygments_lexer": "ipython3",
   "version": "3.10.0"
  },
  "orig_nbformat": 4
 },
 "nbformat": 4,
 "nbformat_minor": 2
}
