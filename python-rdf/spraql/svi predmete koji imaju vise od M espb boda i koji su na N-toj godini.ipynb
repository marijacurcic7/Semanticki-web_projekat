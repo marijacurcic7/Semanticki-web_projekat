{
 "cells": [
  {
   "cell_type": "markdown",
   "metadata": {},
   "source": [
    "# Q4 - Vrati sve predmete koji imaju vise od M espb i koji u na N-toj godini"
   ]
  },
  {
   "cell_type": "code",
   "execution_count": 1,
   "metadata": {},
   "outputs": [
    {
     "data": {
      "text/plain": [
       "<Graph identifier=Nf22b8fc5e8ba44cfa494a9dd5c7252a9 (<class 'rdflib.graph.Graph'>)>"
      ]
     },
     "execution_count": 1,
     "metadata": {},
     "output_type": "execute_result"
    }
   ],
   "source": [
    "# init\n",
    "from rdflib import *\n",
    "\n",
    "# create graph\n",
    "g = Graph()\n",
    "g.parse('../uni.ttl')"
   ]
  },
  {
   "cell_type": "code",
   "execution_count": 2,
   "metadata": {},
   "outputs": [
    {
     "data": {
      "text/plain": [
       "[{'courseTitle': 'Međuračunarske komunikacije i računarske mreže 1',\n",
       "  'year': 4,\n",
       "  'espb': 4},\n",
       " {'courseTitle': 'Završni rad - izrada i odbrana', 'year': 4, 'espb': 5}]"
      ]
     },
     "execution_count": 2,
     "metadata": {},
     "output_type": "execute_result"
    }
   ],
   "source": [
    "espb_limit = 3\n",
    "current_year = 4\n",
    "query = \"\"\"\n",
    "SELECT ?courseTitle ?year ?espb\n",
    "WHERE {\n",
    "  ?course a aiiso:Course .\n",
    "  ?course dc:title ?courseTitle .\n",
    "  ?course uni:espb ?espb .\n",
    "  ?course uni:year ?year .\n",
    "  FILTER (?espb > %d) .\n",
    "  FILTER (?year = %d) .\n",
    "}\n",
    "GROUP BY ?courseTitle\n",
    "\"\"\" % (espb_limit, current_year)\n",
    "result = g.query(query)\n",
    "[{'courseTitle':row.courseTitle.value, 'year': row.year.value, 'espb': row.espb.value} for row in result]"
   ]
  }
 ],
 "metadata": {
  "interpreter": {
   "hash": "1894a7d4a65cd656ab7c7aa425de0718b6b169d832cbc29a7b350b21d32f5ef8"
  },
  "kernelspec": {
   "display_name": "Python 3.10.0 64-bit ('.venv': venv)",
   "language": "python",
   "name": "python3"
  },
  "language_info": {
   "codemirror_mode": {
    "name": "ipython",
    "version": 3
   },
   "file_extension": ".py",
   "mimetype": "text/x-python",
   "name": "python",
   "nbconvert_exporter": "python",
   "pygments_lexer": "ipython3",
   "version": "3.10.0"
  },
  "orig_nbformat": 4
 },
 "nbformat": 4,
 "nbformat_minor": 2
}
