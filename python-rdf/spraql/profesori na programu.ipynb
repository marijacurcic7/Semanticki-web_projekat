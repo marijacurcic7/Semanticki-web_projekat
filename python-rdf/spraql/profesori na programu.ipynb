{
 "cells": [
  {
   "cell_type": "raw",
   "metadata": {},
   "source": [
    "# Q9 - Profesori na programu"
   ]
  },
  {
   "cell_type": "code",
   "execution_count": 1,
   "metadata": {},
   "outputs": [
    {
     "data": {
      "text/plain": [
       "<Graph identifier=N369979d8c23e475fb8696ee84bfd47c8 (<class 'rdflib.graph.Graph'>)>"
      ]
     },
     "execution_count": 1,
     "metadata": {},
     "output_type": "execute_result"
    }
   ],
   "source": [
    "# init\n",
    "from rdflib import *\n",
    "\n",
    "# create graph\n",
    "g = Graph()\n",
    "g.parse('../uni.ttl')"
   ]
  },
  {
   "cell_type": "code",
   "execution_count": 4,
   "metadata": {},
   "outputs": [
    {
     "data": {
      "text/plain": [
       "[]"
      ]
     },
     "execution_count": 4,
     "metadata": {},
     "output_type": "execute_result"
    }
   ],
   "source": [
    "query = \"\"\"\n",
    "SELECT DISTINCT ?name\n",
    "WHERE {\n",
    "?program a aiiso:Programme .\n",
    "?program dc:title ?programName .\n",
    "?course a aiiso:Course .\n",
    "?course uni:partOf ?program .\n",
    "?course uni:hasTeachers ?person .\n",
    "?person foaf:title ?title .\n",
    "?person foaf:name ?name .\n",
    "FILTER (?programName='%s') .\n",
    "FILTER regex(?title, \"profesor\") .\n",
    "} \n",
    "\"\"\" % (\"siit\")\n",
    "result = g.query(query)\n",
    "[row.name.value for row in result]"
   ]
  },
  {
   "cell_type": "code",
   "execution_count": 9,
   "metadata": {},
   "outputs": [
    {
     "data": {
      "text/plain": [
       "[]"
      ]
     },
     "execution_count": 9,
     "metadata": {},
     "output_type": "execute_result"
    }
   ],
   "source": [
    "query = \"\"\"\n",
    "SELECT DISTINCT ?name\n",
    "WHERE {\n",
    "?course a aiiso:Course .\n",
    "?course uni:partOf ?program .\n",
    "?program a aiiso:Programme .\n",
    "?course uni:hasTeachers ?person .\n",
    "?person foaf:title ?title .\n",
    "?person foaf:name ?name .\n",
    "FILTER regex(?title, \"profesor\") .\n",
    "} \n",
    "\"\"\"\n",
    "result = g.query(query)\n",
    "[row.name.value for row in result]"
   ]
  },
  {
   "cell_type": "code",
   "execution_count": null,
   "metadata": {},
   "outputs": [],
   "source": []
  }
 ],
 "metadata": {
  "interpreter": {
   "hash": "1894a7d4a65cd656ab7c7aa425de0718b6b169d832cbc29a7b350b21d32f5ef8"
  },
  "kernelspec": {
   "display_name": "Python 3 (ipykernel)",
   "language": "python",
   "name": "python3"
  },
  "language_info": {
   "codemirror_mode": {
    "name": "ipython",
    "version": 3
   },
   "file_extension": ".py",
   "mimetype": "text/x-python",
   "name": "python",
   "nbconvert_exporter": "python",
   "pygments_lexer": "ipython3",
   "version": "3.9.5"
  }
 },
 "nbformat": 4,
 "nbformat_minor": 2
}
