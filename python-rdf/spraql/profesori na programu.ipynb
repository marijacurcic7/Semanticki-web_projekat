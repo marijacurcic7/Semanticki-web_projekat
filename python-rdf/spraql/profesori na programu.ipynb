{
 "cells": [
  {
   "cell_type": "raw",
   "metadata": {},
   "source": [
    "# Q9 - Profesori na programu"
   ]
  },
  {
   "cell_type": "code",
   "execution_count": 12,
   "metadata": {},
   "outputs": [
    {
     "data": {
      "text/plain": [
       "<Graph identifier=Nbc4cd5d04170444eb07b09aed982d829 (<class 'rdflib.graph.Graph'>)>"
      ]
     },
     "execution_count": 12,
     "metadata": {},
     "output_type": "execute_result"
    }
   ],
   "source": [
    "# init\n",
    "from rdflib import *\n",
    "\n",
    "# create graph\n",
    "g = Graph()\n",
    "g.parse('../uni.ttl')"
   ]
  },
  {
   "cell_type": "code",
   "execution_count": 16,
   "metadata": {},
   "outputs": [
    {
     "data": {
      "text/plain": [
       "['Bjelica dr Milan',\n",
       " 'Teslić dr Nikola',\n",
       " 'Ristić dr Sonja',\n",
       " 'Kordić dr Slavica',\n",
       " 'Dragan dr Dinu',\n",
       " 'Ivetić dr Dragan',\n",
       " 'Dejanović dr Igor',\n",
       " 'Savić dr Goran',\n",
       " 'Ivanović dr Dragan',\n",
       " 'Slivka dr Jelena',\n",
       " 'Zarić dr Miroslav',\n",
       " 'Mihailović dr Biljana',\n",
       " 'Ivetić dr Jelena',\n",
       " 'Kovačević dr Aleksandar',\n",
       " 'Milosavljević dr Gordana',\n",
       " 'Segedinac Milan',\n",
       " 'Ilić dr Vojin',\n",
       " 'Stanišić dr Darko',\n",
       " 'Teofanov dr Ljiljana',\n",
       " 'Pantović dr Jovanka',\n",
       " 'Gostojić dr Stevan',\n",
       " 'Pap dr Ištvan',\n",
       " 'Milosavljević dr Branko',\n",
       " 'Popović dr Miroslav',\n",
       " 'Vidaković dr Milan',\n",
       " 'Sladić dr Goran',\n",
       " 'Bašičević dr Ilija',\n",
       " 'Gajić dr Dušan',\n",
       " 'Doroslovački dr Ksenija',\n",
       " 'Jeličić dr Zoran',\n",
       " 'Rapaić dr Milan',\n",
       " 'Vukmirović dr Srđan',\n",
       " 'Lendak dr Imre',\n",
       " 'Čapko dr Darko',\n",
       " 'Katić dr Ivana',\n",
       " 'Čomić dr Lidija',\n",
       " 'Medić dr Slavica',\n",
       " 'Grubić-Nešić dr Leposava']"
      ]
     },
     "execution_count": 16,
     "metadata": {},
     "output_type": "execute_result"
    }
   ],
   "source": [
    "query = \"\"\"\n",
    "SELECT DISTINCT ?name\n",
    "WHERE {\n",
    "?program a aiiso:Programme .\n",
    "?program uni:name ?programName .\n",
    "?course a aiiso:Course .\n",
    "?course uni:partOf ?program .\n",
    "?course uni:hasTeachers ?person .\n",
    "?person foaf:title ?title .\n",
    "?person foaf:name ?name .\n",
    "FILTER (?programName='%s') .\n",
    "FILTER regex(?title, \"profesor\") .\n",
    "} \n",
    "\"\"\" % (\"softversko inzenjerstvo i informacione tehnologije\")\n",
    "result = g.query(query)\n",
    "[row.name.value for row in result]"
   ]
  },
  {
   "cell_type": "code",
   "execution_count": null,
   "metadata": {},
   "outputs": [],
   "source": []
  }
 ],
 "metadata": {
  "interpreter": {
   "hash": "1894a7d4a65cd656ab7c7aa425de0718b6b169d832cbc29a7b350b21d32f5ef8"
  },
  "kernelspec": {
   "display_name": "Python 3 (ipykernel)",
   "language": "python",
   "name": "python3"
  },
  "language_info": {
   "codemirror_mode": {
    "name": "ipython",
    "version": 3
   },
   "file_extension": ".py",
   "mimetype": "text/x-python",
   "name": "python",
   "nbconvert_exporter": "python",
   "pygments_lexer": "ipython3",
   "version": "3.9.5"
  }
 },
 "nbformat": 4,
 "nbformat_minor": 2
}
