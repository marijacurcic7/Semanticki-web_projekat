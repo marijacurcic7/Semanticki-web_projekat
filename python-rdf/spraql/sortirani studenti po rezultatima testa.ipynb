{
 "cells": [
  {
   "cell_type": "markdown",
   "metadata": {},
   "source": [
    "# Q6 - Sortirani studenti po rezultatima testa"
   ]
  },
  {
   "cell_type": "code",
   "execution_count": 1,
   "metadata": {},
   "outputs": [
    {
     "data": {
      "text/plain": [
       "<Graph identifier=N74f883c0e73a468bb3c1352f45700c5b (<class 'rdflib.graph.Graph'>)>"
      ]
     },
     "execution_count": 1,
     "metadata": {},
     "output_type": "execute_result"
    }
   ],
   "source": [
    "# init\n",
    "from rdflib import *\n",
    "\n",
    "# create graph\n",
    "g = Graph()\n",
    "g.parse('../uni.ttl')"
   ]
  },
  {
   "cell_type": "code",
   "execution_count": 8,
   "metadata": {},
   "outputs": [
    {
     "data": {
      "text/plain": [
       "['http://www.sotis/tests/TpBxQo8I8h0b8NZ8SkCY',\n",
       " 'http://www.sotis/tests/3OLGExDi6sO7C4eYhfMC']"
      ]
     },
     "execution_count": 8,
     "metadata": {},
     "output_type": "execute_result"
    }
   ],
   "source": [
    "# get all testovi\n",
    "query = \"\"\"\n",
    "SELECT ?test\n",
    "WHERE {\n",
    "  ?test a uni:Test .\n",
    "  ?test uni:name ?name .\n",
    "  ?test uni:points ?points .\n",
    "}\n",
    "\"\"\"\n",
    "result = g.query(query)\n",
    "[row.test for row in result]"
   ]
  },
  {
   "cell_type": "code",
   "execution_count": 14,
   "metadata": {},
   "outputs": [
    {
     "data": {
      "text/plain": [
       "[rdflib.term.Literal('Petar Petrovic'),\n",
       " rdflib.term.Literal('Petar Petrovic'),\n",
       " rdflib.term.Literal('Petar Petrovic'),\n",
       " rdflib.term.Literal('Petar Petrovic')]"
      ]
     },
     "execution_count": 14,
     "metadata": {},
     "output_type": "execute_result"
    }
   ],
   "source": [
    "test_name = 'Python Basics'\n",
    "\n",
    "query = \"\"\"\n",
    "SELECT ?personName\n",
    "WHERE {\n",
    "  ?take a uni:Take .\n",
    "  ?take uni:doneBy ?person .\n",
    "  ?person foaf:name ?personName .\n",
    "  ?take uni:of ?test .\n",
    "  ?test a uni:Test .\n",
    "  ?test uni:name '%s' .\n",
    "}\n",
    "\"\"\" % (test_name)\n",
    "\n",
    "result = g.query(query)\n",
    "[row.personName for row in result]"
   ]
  }
 ],
 "metadata": {
  "interpreter": {
   "hash": "1894a7d4a65cd656ab7c7aa425de0718b6b169d832cbc29a7b350b21d32f5ef8"
  },
  "kernelspec": {
   "display_name": "Python 3.10.0 64-bit ('.venv': venv)",
   "language": "python",
   "name": "python3"
  },
  "language_info": {
   "codemirror_mode": {
    "name": "ipython",
    "version": 3
   },
   "file_extension": ".py",
   "mimetype": "text/x-python",
   "name": "python",
   "nbconvert_exporter": "python",
   "pygments_lexer": "ipython3",
   "version": "3.10.0"
  },
  "orig_nbformat": 4
 },
 "nbformat": 4,
 "nbformat_minor": 2
}
