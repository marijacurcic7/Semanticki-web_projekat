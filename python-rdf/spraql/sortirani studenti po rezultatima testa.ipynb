{
 "cells": [
  {
   "cell_type": "markdown",
   "metadata": {},
   "source": [
    "# Q6 - Sortirani studenti po rezultatima testa"
   ]
  },
  {
   "cell_type": "code",
   "execution_count": 7,
   "metadata": {},
   "outputs": [
    {
     "data": {
      "text/plain": [
       "<Graph identifier=N7001ce9d19e5423a8ff97a8ef9344754 (<class 'rdflib.graph.Graph'>)>"
      ]
     },
     "execution_count": 7,
     "metadata": {},
     "output_type": "execute_result"
    }
   ],
   "source": [
    "# init\n",
    "from rdflib import *\n",
    "\n",
    "# create graph\n",
    "g = Graph()\n",
    "g.parse('../uni.ttl')"
   ]
  },
  {
   "cell_type": "code",
   "execution_count": 8,
   "metadata": {},
   "outputs": [
    {
     "data": {
      "text/plain": [
       "[('Nenad Nenadovic', 9, 'Python Basics'),\n",
       " ('Nenad Nenadovic', 3, 'Semantic web basics'),\n",
       " ('Petar Petrovic', 3, 'JS begginer test'),\n",
       " ('Petar Petrovic', 1, 'Python Basics'),\n",
       " ('Petar Petrovic', 1, 'Python Basics'),\n",
       " ('Petar Petrovic', 1, 'Python Basics'),\n",
       " ('Petar Petrovic', 0, 'Python Basics')]"
      ]
     },
     "execution_count": 8,
     "metadata": {},
     "output_type": "execute_result"
    }
   ],
   "source": [
    "\n",
    "query = \"\"\"\n",
    "SELECT ?personName ?points ?testName\n",
    "WHERE {\n",
    "  ?person foaf:name ?personName .\n",
    "  ?take a uni:Take .\n",
    "  ?take uni:points ?points .\n",
    "  ?take uni:doneBy ?person .\n",
    "  ?take uni:partOf ?test .\n",
    "  ?test uni:name ?testName .\n",
    "}\n",
    "ORDER BY DESC(?points) ?personName\n",
    "\"\"\"\n",
    "\n",
    "result = g.query(query)\n",
    "[(row.personName.value, row.points.value, row.testName.value) for row in result]\n"
   ]
  }
 ],
 "metadata": {
  "interpreter": {
   "hash": "1894a7d4a65cd656ab7c7aa425de0718b6b169d832cbc29a7b350b21d32f5ef8"
  },
  "kernelspec": {
   "display_name": "Python 3.10.0 64-bit ('.venv': venv)",
   "language": "python",
   "name": "python3"
  },
  "language_info": {
   "codemirror_mode": {
    "name": "ipython",
    "version": 3
   },
   "file_extension": ".py",
   "mimetype": "text/x-python",
   "name": "python",
   "nbconvert_exporter": "python",
   "pygments_lexer": "ipython3",
   "version": "3.10.0"
  },
  "orig_nbformat": 4
 },
 "nbformat": 4,
 "nbformat_minor": 2
}
