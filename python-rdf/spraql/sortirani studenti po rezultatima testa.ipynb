{
 "cells": [
  {
   "cell_type": "markdown",
   "metadata": {},
   "source": [
    "# Q6 - Sortirani studenti po rezultatima testa"
   ]
  },
  {
   "cell_type": "code",
   "execution_count": 17,
   "metadata": {},
   "outputs": [
    {
     "data": {
      "text/plain": [
       "<Graph identifier=Nff9aafc1240e407aa8c2d98e34b858c8 (<class 'rdflib.graph.Graph'>)>"
      ]
     },
     "execution_count": 17,
     "metadata": {},
     "output_type": "execute_result"
    }
   ],
   "source": [
    "# init\n",
    "from rdflib import *\n",
    "\n",
    "# create graph\n",
    "g = Graph()\n",
    "g.parse('../uni.ttl')"
   ]
  },
  {
   "cell_type": "code",
   "execution_count": 24,
   "metadata": {},
   "outputs": [
    {
     "data": {
      "text/plain": [
       "[(9, 'Nenad Nenadovic', 'Python Basics'),\n",
       " (3, 'Nenad Nenadovic', 'Semantic web basics'),\n",
       " (3, 'Petar Petrovic', 'JS begginer test'),\n",
       " (1, 'Petar Petrovic', 'Python Basics'),\n",
       " (1, 'Petar Petrovic', 'Python Basics'),\n",
       " (1, 'Petar Petrovic', 'Python Basics'),\n",
       " (0, 'Petar Petrovic', 'Python Basics')]"
      ]
     },
     "execution_count": 24,
     "metadata": {},
     "output_type": "execute_result"
    }
   ],
   "source": [
    "\n",
    "query = \"\"\"\n",
    "SELECT ?personName ?points ?testName\n",
    "WHERE {\n",
    "  ?person foaf:name ?personName .\n",
    "  ?take a uni:Take .\n",
    "  ?take uni:points ?points .\n",
    "  ?take uni:doneBy ?person .\n",
    "  ?take uni:of ?test .\n",
    "  ?test uni:name ?testName .\n",
    "}\n",
    "ORDER BY DESC(?points) ?personName ?testName\n",
    "\"\"\"\n",
    "\n",
    "result = g.query(query)\n",
    "[(row.points.value, row.personName.value, row.testName.value) for row in result]"
   ]
  }
 ],
 "metadata": {
  "interpreter": {
   "hash": "1894a7d4a65cd656ab7c7aa425de0718b6b169d832cbc29a7b350b21d32f5ef8"
  },
  "kernelspec": {
   "display_name": "Python 3.10.0 64-bit ('.venv': venv)",
   "language": "python",
   "name": "python3"
  },
  "language_info": {
   "codemirror_mode": {
    "name": "ipython",
    "version": 3
   },
   "file_extension": ".py",
   "mimetype": "text/x-python",
   "name": "python",
   "nbconvert_exporter": "python",
   "pygments_lexer": "ipython3",
   "version": "3.10.0"
  },
  "orig_nbformat": 4
 },
 "nbformat": 4,
 "nbformat_minor": 2
}
