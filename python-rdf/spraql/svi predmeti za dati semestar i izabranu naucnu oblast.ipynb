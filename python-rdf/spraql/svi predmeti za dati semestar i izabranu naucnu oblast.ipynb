{
 "cells": [
  {
   "cell_type": "markdown",
   "metadata": {},
   "source": [
    "# Q5 - Svi predmeti za dati semestar i izabranu naucnu oblast"
   ]
  },
  {
   "cell_type": "code",
   "execution_count": 4,
   "metadata": {},
   "outputs": [
    {
     "data": {
      "text/plain": [
       "<Graph identifier=N64deb3154bee47b79a3c0b7a940ca231 (<class 'rdflib.graph.Graph'>)>"
      ]
     },
     "execution_count": 4,
     "metadata": {},
     "output_type": "execute_result"
    }
   ],
   "source": [
    "# init\n",
    "from rdflib import *\n",
    "\n",
    "# create graph\n",
    "g = Graph()\n",
    "g.parse('../uni.ttl')"
   ]
  },
  {
   "cell_type": "code",
   "execution_count": 11,
   "metadata": {},
   "outputs": [
    {
     "data": {
      "text/plain": [
       "['Računarska tehnika i računarske komunikacije']"
      ]
     },
     "execution_count": 11,
     "metadata": {},
     "output_type": "execute_result"
    }
   ],
   "source": [
    "# sve naucne oblasti za dati semstar\n",
    "semestar = 'zimski'\n",
    "query = \"\"\"\n",
    "SELECT ?scientificField\n",
    "WHERE {\n",
    "  ?course a aiiso:Course .\n",
    "  ?course uni:semester '%s' .\n",
    "  ?course uni:scientificField ?scientificField .\n",
    "}\n",
    "\"\"\" % (semestar)\n",
    "result = g.query(query)\n",
    "[row.scientificField.value for row in result]"
   ]
  },
  {
   "cell_type": "code",
   "execution_count": 13,
   "metadata": {},
   "outputs": [
    {
     "data": {
      "text/plain": [
       "['Međuračunarske komunikacije i računarske mreže 1']"
      ]
     },
     "execution_count": 13,
     "metadata": {},
     "output_type": "execute_result"
    }
   ],
   "source": [
    "semestar = 'zimski'\n",
    "naucna_oblast = 'Računarska tehnika i računarske komunikacije'\n",
    "query = \"\"\"\n",
    "SELECT ?courseTitle\n",
    "WHERE {\n",
    "  ?course a aiiso:Course .\n",
    "  ?course dc:title ?courseTitle .\n",
    "  ?course uni:semester '%s' .\n",
    "  ?course uni:scientificField '%s'.\n",
    "}\n",
    "GROUP BY ?courseTitle\n",
    "\"\"\" % (semestar, naucna_oblast)\n",
    "result = g.query(query)\n",
    "[row.courseTitle.value for row in result]"
   ]
  }
 ],
 "metadata": {
  "interpreter": {
   "hash": "1894a7d4a65cd656ab7c7aa425de0718b6b169d832cbc29a7b350b21d32f5ef8"
  },
  "kernelspec": {
   "display_name": "Python 3.10.0 64-bit ('.venv': venv)",
   "language": "python",
   "name": "python3"
  },
  "language_info": {
   "codemirror_mode": {
    "name": "ipython",
    "version": 3
   },
   "file_extension": ".py",
   "mimetype": "text/x-python",
   "name": "python",
   "nbconvert_exporter": "python",
   "pygments_lexer": "ipython3",
   "version": "3.10.0"
  },
  "orig_nbformat": 4
 },
 "nbformat": 4,
 "nbformat_minor": 2
}
