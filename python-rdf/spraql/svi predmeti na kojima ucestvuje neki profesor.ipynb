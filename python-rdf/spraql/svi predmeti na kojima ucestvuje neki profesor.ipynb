{
 "cells": [
  {
   "cell_type": "markdown",
   "metadata": {},
   "source": [
    "# Q2 - Vrati sve predmete na kojima ucestvuje neki profesor"
   ]
  },
  {
   "cell_type": "code",
   "execution_count": 1,
   "metadata": {},
   "outputs": [
    {
     "data": {
      "text/plain": [
       "<Graph identifier=Ndb1d2c2ab2234e359b56c78dfdd9a2d9 (<class 'rdflib.graph.Graph'>)>"
      ]
     },
     "execution_count": 1,
     "metadata": {},
     "output_type": "execute_result"
    }
   ],
   "source": [
    "# init\n",
    "from rdflib import *\n",
    "\n",
    "# create graph\n",
    "g = Graph()\n",
    "g.parse('../uni.ttl')"
   ]
  },
  {
   "cell_type": "code",
   "execution_count": 2,
   "metadata": {},
   "outputs": [
    {
     "data": {
      "text/plain": [
       "['Bašičević dr Ilija', 'Katić dr Ivana', 'Grubić-Nešić dr Leposava']"
      ]
     },
     "execution_count": 2,
     "metadata": {},
     "output_type": "execute_result"
    }
   ],
   "source": [
    "# vrati sve profesore\n",
    "query = \"\"\"\n",
    "SELECT DISTINCT ?name\n",
    "WHERE {\n",
    "  ?person foaf:name ?name .\n",
    "  ?person foaf:title ?title .\n",
    "  FILTER  regex(?title, \"profesor\")\n",
    "}\n",
    "\"\"\"\n",
    "result = g.query(query)\n",
    "teachers = [str(row.name) for row in result]\n",
    "teachers"
   ]
  },
  {
   "cell_type": "code",
   "execution_count": 27,
   "metadata": {},
   "outputs": [
    {
     "name": "stdout",
     "output_type": "stream",
     "text": [
      "Industrijska psihologija-------\n"
     ]
    }
   ],
   "source": [
    "# vrati sve predmete na kojima ucestvuje neki profesor\n",
    "teacher_name = 'Katić dr Ivana'\n",
    "query = \"\"\"\n",
    "SELECT DISTINCT ?title ?type ?methodology ?purpose ?result ?semester ?year ?espb\n",
    "WHERE {\n",
    "  ?course a aiiso:Course .\n",
    "  ?course uni:hasTeachers ?teachers .\n",
    "  ?teachers uni:teachersList ?person .\n",
    "  ?person foaf:name '%s' .\n",
    "  OPTIONAL {\n",
    "    ?course dc:title ?title .\n",
    "    ?course dc:type ?type .\n",
    "    ?course uni:Methodology ?methodology .\n",
    "    ?course uni:Purpose ?purpose .\n",
    "    ?course uni:Result ?result .\n",
    "    ?course uni:Semester ?semester .\n",
    "    ?course uni:Year ?year .\n",
    "    ?course uni:espb ?espb .\n",
    "  }\n",
    "  \n",
    "}\n",
    "\"\"\" % (teacher_name)\n",
    "\n",
    "\n",
    "result = g.query(query)\n",
    "for row in result:\n",
    "    print(row.title, end='-------\\n')\n"
   ]
  },
  {
   "cell_type": "code",
   "execution_count": 26,
   "metadata": {},
   "outputs": [
    {
     "name": "stdout",
     "output_type": "stream",
     "text": [
      "http://www.w3.org/1999/02/22-rdf-syntax-ns#type 0\n",
      "http://purl.org/dc/elements/1.1/date 0\n",
      "http://purl.org/dc/elements/1.1/description 0\n",
      "http://purl.org/dc/elements/1.1/subject 0\n",
      "http://purl.org/dc/elements/1.1/title 0\n",
      "http://purl.org/dc/elements/1.1/type 0\n",
      "http://www.semanticweb.org/marija/ontologies/2021/university.owlMethodology 0\n",
      "http://www.semanticweb.org/marija/ontologies/2021/university.owlPurpose 0\n",
      "http://www.semanticweb.org/marija/ontologies/2021/university.owlResult 0\n",
      "http://www.semanticweb.org/marija/ontologies/2021/university.owlSemester 0\n",
      "http://www.semanticweb.org/marija/ontologies/2021/university.owlYear 0\n",
      "http://www.semanticweb.org/marija/ontologies/2021/university.owlespb 0\n",
      "http://www.semanticweb.org/marija/ontologies/2021/university.owlhasEvaluation 0\n",
      "http://www.semanticweb.org/marija/ontologies/2021/university.owlhasLiterature 0\n",
      "http://www.semanticweb.org/marija/ontologies/2021/university.owlhasTeachers 0\n"
     ]
    }
   ],
   "source": [
    "# vrati sve predmete na kojima ucestvuje neki profesor na drugi nacin\n",
    "teacher_name = 'Katić dr Ivana'\n",
    "query = \"\"\"\n",
    "SELECT DISTINCT ?course\n",
    "WHERE {\n",
    "  ?course a aiiso:Course .\n",
    "  ?course uni:hasTeachers ?teachers .\n",
    "  ?teachers uni:teachersList ?person .\n",
    "  ?person foaf:name '%s' .  \n",
    "}\n",
    "\"\"\" % (teacher_name)\n",
    "\n",
    "result = g.query(query)\n",
    "courses = [row.course for row in result]\n",
    "for p, o in g.predicate_objects(courses[0]):\n",
    "  print(p, 0)\n"
   ]
  }
 ],
 "metadata": {
  "interpreter": {
   "hash": "1894a7d4a65cd656ab7c7aa425de0718b6b169d832cbc29a7b350b21d32f5ef8"
  },
  "kernelspec": {
   "display_name": "Python 3.10.0 64-bit ('.venv': venv)",
   "language": "python",
   "name": "python3"
  },
  "language_info": {
   "codemirror_mode": {
    "name": "ipython",
    "version": 3
   },
   "file_extension": ".py",
   "mimetype": "text/x-python",
   "name": "python",
   "nbconvert_exporter": "python",
   "pygments_lexer": "ipython3",
   "version": "3.10.0"
  },
  "orig_nbformat": 4
 },
 "nbformat": 4,
 "nbformat_minor": 2
}
