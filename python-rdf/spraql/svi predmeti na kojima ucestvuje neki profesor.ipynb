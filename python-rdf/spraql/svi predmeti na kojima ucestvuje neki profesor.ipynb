{
 "cells": [
  {
   "cell_type": "markdown",
   "metadata": {},
   "source": [
    "# Q2 - Vrati sve predmete na kojima ucestvuje neki profesor"
   ]
  },
  {
   "cell_type": "code",
   "execution_count": 1,
   "metadata": {},
   "outputs": [
    {
     "data": {
      "text/plain": [
       "<Graph identifier=N8f35b8990b3349b194f35201e10547b5 (<class 'rdflib.graph.Graph'>)>"
      ]
     },
     "execution_count": 1,
     "metadata": {},
     "output_type": "execute_result"
    }
   ],
   "source": [
    "# init\n",
    "from rdflib import *\n",
    "\n",
    "# create graph\n",
    "g = Graph()\n",
    "g.parse('../uni.ttl')"
   ]
  },
  {
   "cell_type": "code",
   "execution_count": 2,
   "metadata": {},
   "outputs": [
    {
     "data": {
      "text/plain": [
       "['Bašičević dr Ilija', 'Katić dr Ivana', 'Grubić-Nešić dr Leposava']"
      ]
     },
     "execution_count": 2,
     "metadata": {},
     "output_type": "execute_result"
    }
   ],
   "source": [
    "# vrati sve profesore\n",
    "query = \"\"\"\n",
    "SELECT DISTINCT ?name\n",
    "WHERE {\n",
    "  ?person foaf:name ?name .\n",
    "  ?person foaf:title ?title .\n",
    "  FILTER  regex(?title, \"profesor\")\n",
    "}\n",
    "\"\"\"\n",
    "result = g.query(query)\n",
    "teachers = [str(row.name) for row in result]\n",
    "teachers"
   ]
  },
  {
   "cell_type": "code",
   "execution_count": 3,
   "metadata": {},
   "outputs": [
    {
     "name": "stdout",
     "output_type": "stream",
     "text": [
      "Industrijska psihologija\n",
      "None\n",
      "Nastava se odvija kroz predavanja i auditorne vežbe, usaglašavanjem teorijskog koncepta sa predavanja i rada na vežbama, u cilju što realnijeg i svestranijeg sagledavanja mogućnosti i uloge ljudskih resursa u organizaciji\n",
      "Obrazovni cilj: sticanje znanja iz industrijske psihologije u cilju humanizacije rada, razvoja kompetentnosti u projektovanju posla, procesa industrijalizacije zaposlenih sa ciljem unapređenja ličnih učinaka i povećanja poslovne efikasnosti i efektivnosti organizacije. Industrijska psihologija ukazuje na značaj ostvarivanja optimalnog radnog efekta uz maksimalno prilagođavanje čoveka radu.\n",
      "Studenti će biti osposobljeni da: (1) primene praktične tehnike analize posla, radnih mesta zaposlenih u organizacijskim ulogama (2) identifikuju indikatore apsentizma i fluktuacije  (3) steknu znanje o preventivnim merama povreda i nesreća na radu (4) analiziraju funkciju čoveka u tehničkim sistemima (5) usvoje principe optimizacije rada, sredstava za rad i uslova radnog mesta.\n",
      "letnji\n",
      "2\n",
      "5\n"
     ]
    }
   ],
   "source": [
    "# vrati sve predmete na kojima ucestvuje neki profesor\n",
    "teacher_name = 'Katić dr Ivana'\n",
    "query = \"\"\"\n",
    "SELECT DISTINCT ?title ?type ?methodology ?purpose ?result ?semester ?year ?espb\n",
    "WHERE {\n",
    "  ?course a aiiso:Course .\n",
    "  ?course uni:hasTeachers ?person .\n",
    "  ?person foaf:name '%s' .\n",
    "  ?course dc:title ?title . \n",
    "  OPTIONAL { ?course dc:Type ?type . }\n",
    "  OPTIONAL { ?course uni:methodology ?methodology . }\n",
    "  OPTIONAL { ?course uni:purpose ?purpose . }\n",
    "  OPTIONAL { ?course uni:result ?result . }\n",
    "  OPTIONAL { ?course uni:semester ?semester . }\n",
    "  OPTIONAL { ?course uni:year ?year . }\n",
    "  OPTIONAL { ?course uni:espb ?espb . }\n",
    "}\n",
    "\"\"\" % (teacher_name)\n",
    "\n",
    "\n",
    "result = g.query(query)\n",
    "for row in result:\n",
    "    for x in row: print(getattr(x, 'value', None))\n"
   ]
  },
  {
   "cell_type": "code",
   "execution_count": 4,
   "metadata": {},
   "outputs": [
    {
     "name": "stdout",
     "output_type": "stream",
     "text": [
      "http://www.w3.org/1999/02/22-rdf-syntax-ns#type http://purl.org/vocab/aiiso/schema#Course\n",
      "http://purl.org/dc/elements/1.1/date 2013-10-01\n",
      "http://purl.org/dc/elements/1.1/description Uloga industrijske psihologije u poslovanju: definicija, predmet i ciljevi industrijske psihologije; istorijski razvoj; fiziološki i psihološki aspekti rada; cirkadijalni ritmovi i individualne razlike. Prilagođavanje čoveka radu: metode prilagođavanja čoveka radu; analiza posla-osnova prilagođavanja čoveka radu; metode procene radnika i radnih mesta; oblikovanje poslova i organizacija rada; dizajn posla; uloga apsentizma i fluktuacije; radna adaptacija. Radna sposobnost zaposlenih: tehnike redizajniranja posla; patologija rada; umor i monotonija; bezbednost na radu; povrede na radu, prevencija nesreće na radu. Čovek u savremenim tehnološkim sistemima: sistem čovek-mašina; efikasnost sistema; komunikacija u sistemu; tačnost, pouzdanost, raspodela uloga u sistemu; mentalni modeli operatora.\n",
      "http://purl.org/dc/elements/1.1/title Industrijska psihologija\n",
      "http://purl.org/dc/elements/1.1/type Stručno-aplikativni\n",
      "http://www.semanticweb.org/marija/ontologies/2021/university.owlbooksList na95ef651d257451bbfb4cb76c61c22bbb14\n",
      "http://www.semanticweb.org/marija/ontologies/2021/university.owlbooksList na95ef651d257451bbfb4cb76c61c22bbb15\n",
      "http://www.semanticweb.org/marija/ontologies/2021/university.owlbooksList na95ef651d257451bbfb4cb76c61c22bbb16\n",
      "http://www.semanticweb.org/marija/ontologies/2021/university.owlbooksList na95ef651d257451bbfb4cb76c61c22bbb17\n",
      "http://www.semanticweb.org/marija/ontologies/2021/university.owlbooksList na95ef651d257451bbfb4cb76c61c22bbb18\n",
      "http://www.semanticweb.org/marija/ontologies/2021/university.owlespb 5\n",
      "http://www.semanticweb.org/marija/ontologies/2021/university.owlhasEvaluation na95ef651d257451bbfb4cb76c61c22bbb19\n",
      "http://www.semanticweb.org/marija/ontologies/2021/university.owlhasEvaluation na95ef651d257451bbfb4cb76c61c22bbb20\n",
      "http://www.semanticweb.org/marija/ontologies/2021/university.owlhasEvaluation na95ef651d257451bbfb4cb76c61c22bbb21\n",
      "http://www.semanticweb.org/marija/ontologies/2021/university.owlhasEvaluation na95ef651d257451bbfb4cb76c61c22bbb22\n",
      "http://www.semanticweb.org/marija/ontologies/2021/university.owlhasEvaluation na95ef651d257451bbfb4cb76c61c22bbb23\n",
      "http://www.semanticweb.org/marija/ontologies/2021/university.owlhasTeachers na95ef651d257451bbfb4cb76c61c22bbb24\n",
      "http://www.semanticweb.org/marija/ontologies/2021/university.owlhasTeachers na95ef651d257451bbfb4cb76c61c22bbb25\n",
      "http://www.semanticweb.org/marija/ontologies/2021/university.owlhasTeachers na95ef651d257451bbfb4cb76c61c22bbb26\n",
      "http://www.semanticweb.org/marija/ontologies/2021/university.owlmethodology Nastava se odvija kroz predavanja i auditorne vežbe, usaglašavanjem teorijskog koncepta sa predavanja i rada na vežbama, u cilju što realnijeg i svestranijeg sagledavanja mogućnosti i uloge ljudskih resursa u organizaciji\n",
      "http://www.semanticweb.org/marija/ontologies/2021/university.owlpurpose Obrazovni cilj: sticanje znanja iz industrijske psihologije u cilju humanizacije rada, razvoja kompetentnosti u projektovanju posla, procesa industrijalizacije zaposlenih sa ciljem unapređenja ličnih učinaka i povećanja poslovne efikasnosti i efektivnosti organizacije. Industrijska psihologija ukazuje na značaj ostvarivanja optimalnog radnog efekta uz maksimalno prilagođavanje čoveka radu.\n",
      "http://www.semanticweb.org/marija/ontologies/2021/university.owlresult Studenti će biti osposobljeni da: (1) primene praktične tehnike analize posla, radnih mesta zaposlenih u organizacijskim ulogama (2) identifikuju indikatore apsentizma i fluktuacije  (3) steknu znanje o preventivnim merama povreda i nesreća na radu (4) analiziraju funkciju čoveka u tehničkim sistemima (5) usvoje principe optimizacije rada, sredstava za rad i uslova radnog mesta.\n",
      "http://www.semanticweb.org/marija/ontologies/2021/university.owlscientificField Proizvodni i uslužni sistemi, organizacija i menadžment\n",
      "http://www.semanticweb.org/marija/ontologies/2021/university.owlsemester letnji\n",
      "http://www.semanticweb.org/marija/ontologies/2021/university.owlyear 2\n"
     ]
    }
   ],
   "source": [
    "# vrati sve predmete na kojima ucestvuje neki profesor na drugi nacin\n",
    "teacher_name = 'Katić dr Ivana'\n",
    "query = \"\"\"\n",
    "SELECT DISTINCT ?course\n",
    "WHERE {\n",
    "  ?course a aiiso:Course .\n",
    "  ?course uni:hasTeachers ?person .\n",
    "  ?person foaf:name '%s' .  \n",
    "}\n",
    "\"\"\" % (teacher_name)\n",
    "\n",
    "result = g.query(query)\n",
    "courses = [row.course for row in result]\n",
    "for p, o in g.predicate_objects(courses[0]):\n",
    "  print(p, o)\n"
   ]
  }
 ],
 "metadata": {
  "interpreter": {
   "hash": "1894a7d4a65cd656ab7c7aa425de0718b6b169d832cbc29a7b350b21d32f5ef8"
  },
  "kernelspec": {
   "display_name": "Python 3.10.0 64-bit ('.venv': venv)",
   "language": "python",
   "name": "python3"
  },
  "language_info": {
   "codemirror_mode": {
    "name": "ipython",
    "version": 3
   },
   "file_extension": ".py",
   "mimetype": "text/x-python",
   "name": "python",
   "nbconvert_exporter": "python",
   "pygments_lexer": "ipython3",
   "version": "3.10.0"
  },
  "orig_nbformat": 4
 },
 "nbformat": 4,
 "nbformat_minor": 2
}
