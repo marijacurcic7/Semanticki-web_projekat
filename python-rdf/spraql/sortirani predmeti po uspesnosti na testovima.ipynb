{
 "cells": [
  {
   "cell_type": "code",
   "execution_count": 28,
   "metadata": {},
   "outputs": [
    {
     "data": {
      "text/plain": [
       "<Graph identifier=Nf9f6352daf234b70aa3bee544ef8b5db (<class 'rdflib.graph.Graph'>)>"
      ]
     },
     "execution_count": 28,
     "metadata": {},
     "output_type": "execute_result"
    }
   ],
   "source": [
    "# init\n",
    "from rdflib import *\n",
    "\n",
    "# create graph\n",
    "g = Graph()\n",
    "g.parse('../uni.ttl')"
   ]
  },
  {
   "cell_type": "code",
   "execution_count": 29,
   "metadata": {},
   "outputs": [
    {
     "data": {
      "text/plain": [
       "[(3.0, 'JS begginer test'),\n",
       " (3.0, 'Semantic web basics'),\n",
       " (2.4, 'Python Basics')]"
      ]
     },
     "execution_count": 29,
     "metadata": {},
     "output_type": "execute_result"
    }
   ],
   "source": [
    "query = \"\"\"\n",
    "SELECT ?testName ?points (avg(?points) as ?avgPoints)\n",
    "WHERE {\n",
    "  ?person foaf:name ?personName .\n",
    "  ?take a uni:Take .\n",
    "  ?take uni:points ?points .\n",
    "  ?take uni:doneBy ?person .\n",
    "  ?take uni:of ?test .\n",
    "  ?test uni:name ?testName .\n",
    "}\n",
    "GROUP BY ?testName \n",
    "ORDER BY DESC(?avgPoints) ?testName\n",
    "\"\"\"\n",
    "\n",
    "result = g.query(query)\n",
    "[(float(row.avgPoints.value), row.testName.value) for row in result]\n"
   ]
  }
 ],
 "metadata": {
  "interpreter": {
   "hash": "1894a7d4a65cd656ab7c7aa425de0718b6b169d832cbc29a7b350b21d32f5ef8"
  },
  "kernelspec": {
   "display_name": "Python 3.10.0 64-bit ('.venv': venv)",
   "language": "python",
   "name": "python3"
  },
  "language_info": {
   "codemirror_mode": {
    "name": "ipython",
    "version": 3
   },
   "file_extension": ".py",
   "mimetype": "text/x-python",
   "name": "python",
   "nbconvert_exporter": "python",
   "pygments_lexer": "ipython3",
   "version": "3.10.0"
  },
  "orig_nbformat": 4
 },
 "nbformat": 4,
 "nbformat_minor": 2
}
