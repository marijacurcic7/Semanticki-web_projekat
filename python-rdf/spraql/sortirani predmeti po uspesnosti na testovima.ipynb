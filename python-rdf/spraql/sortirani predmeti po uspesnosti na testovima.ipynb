{
 "cells": [
  {
   "cell_type": "markdown",
   "metadata": {},
   "source": [
    "# Q7 - Sortirani predmeti po uspesnosti na testu"
   ]
  },
  {
   "cell_type": "code",
   "execution_count": 1,
   "metadata": {},
   "outputs": [
    {
     "data": {
      "text/plain": [
       "<Graph identifier=N9acf07c4dedf4db99fe8f29dcbae014f (<class 'rdflib.graph.Graph'>)>"
      ]
     },
     "execution_count": 1,
     "metadata": {},
     "output_type": "execute_result"
    }
   ],
   "source": [
    "# init\n",
    "from rdflib import *\n",
    "\n",
    "# create graph\n",
    "g = Graph()\n",
    "g.parse('../uni.ttl')"
   ]
  },
  {
   "cell_type": "code",
   "execution_count": 4,
   "metadata": {},
   "outputs": [
    {
     "data": {
      "text/plain": [
       "[(3.0, 'Napredne veb tehnologije'),\n",
       " (3.0, 'Računarska inteligencija'),\n",
       " (2.4, 'Osnove programiranja')]"
      ]
     },
     "execution_count": 4,
     "metadata": {},
     "output_type": "execute_result"
    }
   ],
   "source": [
    "query = \"\"\"\n",
    "SELECT ?testName ?courseName (avg(?points) as ?avgPoints)\n",
    "WHERE {\n",
    "  ?person foaf:name ?personName .\n",
    "  ?take a uni:Take .\n",
    "  ?take uni:points ?points .\n",
    "  ?take uni:doneBy ?person .\n",
    "  ?take uni:partOf ?test .\n",
    "  ?test uni:name ?testName .\n",
    "  ?test uni:partOf ?course .\n",
    "  ?course dc:title ?courseName .\n",
    "}\n",
    "GROUP BY ?testName  ?courseName\n",
    "ORDER BY DESC(?avgPoints) ?testName\n",
    "\"\"\"\n",
    "\n",
    "result = g.query(query)\n",
    "[(float(row.avgPoints.value), row.courseName.value) for row in result]\n"
   ]
  }
 ],
 "metadata": {
  "interpreter": {
   "hash": "1894a7d4a65cd656ab7c7aa425de0718b6b169d832cbc29a7b350b21d32f5ef8"
  },
  "kernelspec": {
   "display_name": "Python 3 (ipykernel)",
   "language": "python",
   "name": "python3"
  },
  "language_info": {
   "codemirror_mode": {
    "name": "ipython",
    "version": 3
   },
   "file_extension": ".py",
   "mimetype": "text/x-python",
   "name": "python",
   "nbconvert_exporter": "python",
   "pygments_lexer": "ipython3",
   "version": "3.9.5"
  }
 },
 "nbformat": 4,
 "nbformat_minor": 2
}
