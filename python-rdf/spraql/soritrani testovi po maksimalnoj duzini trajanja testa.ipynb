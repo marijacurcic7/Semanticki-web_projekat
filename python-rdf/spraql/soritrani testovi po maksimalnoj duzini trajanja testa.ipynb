{
 "cells": [
  {
   "cell_type": "markdown",
   "metadata": {},
   "source": [
    "# Q8 Soritrani testovi po maksimalnoj duzini trajanja testa"
   ]
  },
  {
   "cell_type": "code",
   "execution_count": 11,
   "metadata": {},
   "outputs": [],
   "source": [
    "# init\n",
    "from rdflib import *\n",
    "from owlrl import DeductiveClosure, OWLRL_Semantics\n",
    "\n",
    "# create graph\n",
    "g = Graph()\n",
    "# load data\n",
    "g.parse('../uni.ttl')\n",
    "# load ontology\n",
    "g.parse('../../ontologije/university_ontology.ttl')\n",
    "# turn on reasoner\n",
    "DeductiveClosure(OWLRL_Semantics).expand(g)"
   ]
  },
  {
   "cell_type": "code",
   "execution_count": 5,
   "metadata": {},
   "outputs": [
    {
     "data": {
      "text/plain": [
       "[('Python Basics', datetime.timedelta(seconds=4, microseconds=988000)),\n",
       " ('Python Basics', datetime.timedelta(seconds=5, microseconds=764000)),\n",
       " ('Python Basics', datetime.timedelta(seconds=15, microseconds=529000)),\n",
       " ('Python Basics', datetime.timedelta(seconds=23, microseconds=414000)),\n",
       " ('JS begginer test', datetime.timedelta(seconds=28, microseconds=83000)),\n",
       " ('Semantic web basics', datetime.timedelta(seconds=33, microseconds=493000)),\n",
       " ('Python Basics', datetime.timedelta(seconds=571, microseconds=571000))]"
      ]
     },
     "execution_count": 5,
     "metadata": {},
     "output_type": "execute_result"
    }
   ],
   "source": [
    "# get duration for each take\n",
    "query = \"\"\"\n",
    "SELECT  ?testName ?duration\n",
    "WHERE {\n",
    "  ?take uni:partOf ?test .\n",
    "  ?test uni:name ?testName .\n",
    "\n",
    "  # get duration and take\n",
    "  {\n",
    "    SELECT ?take (?endTime - ?startTime as ?duration)\n",
    "    WHERE {\n",
    "        ?take a uni:Take .\n",
    "        ?take uni:startTime ?startTime .\n",
    "        ?take uni:endTime ?endTime .\n",
    "    }\n",
    "  }\n",
    "}\n",
    "ORDER BY ?duration\n",
    "\"\"\"\n",
    "[(row.testName.value, row.duration.value) for row in g.query(query)]"
   ]
  },
  {
   "cell_type": "code",
   "execution_count": 7,
   "metadata": {},
   "outputs": [
    {
     "data": {
      "text/plain": [
       "[{'testName': 'Python Basics',\n",
       "  'maxDuration': datetime.timedelta(seconds=571, microseconds=571000),\n",
       "  'minDuration': datetime.timedelta(seconds=4, microseconds=988000)},\n",
       " {'testName': 'Semantic web basics',\n",
       "  'maxDuration': datetime.timedelta(seconds=33, microseconds=493000),\n",
       "  'minDuration': datetime.timedelta(seconds=33, microseconds=493000)},\n",
       " {'testName': 'JS begginer test',\n",
       "  'maxDuration': datetime.timedelta(seconds=28, microseconds=83000),\n",
       "  'minDuration': datetime.timedelta(seconds=28, microseconds=83000)}]"
      ]
     },
     "execution_count": 7,
     "metadata": {},
     "output_type": "execute_result"
    }
   ],
   "source": [
    "# get min and max duration for each test\n",
    "query = \"\"\"\n",
    "SELECT  ?testName (max(?duration) as ?maxDuration) (min(?duration) as ?minDuration)\n",
    "WHERE {\n",
    "  ?take uni:partOf ?test .\n",
    "  ?test uni:name ?testName .\n",
    "\n",
    "  # get duration and take\n",
    "  {\n",
    "    SELECT ?take (?endTime - ?startTime as ?duration)\n",
    "    WHERE {\n",
    "        ?take a uni:Take .\n",
    "        ?take uni:startTime ?startTime .\n",
    "        ?take uni:endTime ?endTime .\n",
    "    }\n",
    "  }\n",
    "}\n",
    "GROUP BY ?testName\n",
    "ORDER BY DESC(?maxDuration)\n",
    "\"\"\"\n",
    "[{'testName': row.testName.value, 'maxDuration': row.maxDuration.value, 'minDuration': row.minDuration.value} for row in g.query(query)]"
   ]
  }
 ],
 "metadata": {
  "interpreter": {
   "hash": "1894a7d4a65cd656ab7c7aa425de0718b6b169d832cbc29a7b350b21d32f5ef8"
  },
  "kernelspec": {
   "display_name": "Python 3.10.0 64-bit ('.venv': venv)",
   "language": "python",
   "name": "python3"
  },
  "language_info": {
   "codemirror_mode": {
    "name": "ipython",
    "version": 3
   },
   "file_extension": ".py",
   "mimetype": "text/x-python",
   "name": "python",
   "nbconvert_exporter": "python",
   "pygments_lexer": "ipython3",
   "version": "3.10.0"
  },
  "orig_nbformat": 4
 },
 "nbformat": 4,
 "nbformat_minor": 2
}
