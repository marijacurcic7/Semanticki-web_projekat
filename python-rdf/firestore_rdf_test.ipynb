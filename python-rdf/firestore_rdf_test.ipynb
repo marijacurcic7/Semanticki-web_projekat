{
 "cells": [
  {
   "cell_type": "markdown",
   "metadata": {},
   "source": [
    "# Save courses to RDF"
   ]
  },
  {
   "cell_type": "markdown",
   "metadata": {},
   "source": [
    "## Read data from Firestore"
   ]
  },
  {
   "cell_type": "code",
   "execution_count": 1,
   "metadata": {},
   "outputs": [],
   "source": [
    "# init\n",
    "from os import environ\n",
    "environ['FIRESTORE_EMULATOR_HOST'] = 'localhost:8080'\n",
    "environ['FIREBASE_AUTH_EMULATOR_HOST'] = 'localhost:8083'\n",
    "environ['GOOGLE_APPLICATION_CREDENTIALS'] = '../serviceAccountKey.json'\n",
    "\n",
    "from firebase_admin import firestore, initialize_app, credentials\n",
    "cred = credentials.ApplicationDefault()\n",
    "initialize_app(cred)\n",
    "db = firestore.client()"
   ]
  },
  {
   "cell_type": "code",
   "execution_count": 9,
   "metadata": {},
   "outputs": [
    {
     "data": {
      "text/plain": [
       "'softversko inzenjerstvo i informacione tehnologije'"
      ]
     },
     "execution_count": 9,
     "metadata": {},
     "output_type": "execute_result"
    }
   ],
   "source": [
    "# get a program\n",
    "siit_ref = db.collection(u'programs').document(u'siit')\n",
    "program = siit_ref.get().to_dict()\n",
    "program['naziv']"
   ]
  },
  {
   "cell_type": "code",
   "execution_count": 17,
   "metadata": {},
   "outputs": [
    {
     "data": {
      "text/plain": [
       "'Završni rad - izrada i odbrana'"
      ]
     },
     "execution_count": 17,
     "metadata": {},
     "output_type": "execute_result"
    }
   ],
   "source": [
    "# get courses\n",
    "courses_snapshot = siit_ref.collection(u'courses').stream()\n",
    "courses = [course.to_dict() for course in courses_snapshot]\n",
    "courses[0]['naziv']"
   ]
  },
  {
   "cell_type": "markdown",
   "metadata": {},
   "source": [
    "## Write courses to rdf"
   ]
  },
  {
   "cell_type": "markdown",
   "metadata": {},
   "source": [
    "Simple rdflib example"
   ]
  },
  {
   "cell_type": "code",
   "execution_count": 33,
   "metadata": {},
   "outputs": [
    {
     "name": "stdout",
     "output_type": "stream",
     "text": [
      "@prefix foaf: <http://xmlns.com/foaf/0.1/> .\n",
      "@prefix xsd: <http://www.w3.org/2001/XMLSchema#> .\n",
      "\n",
      "<http://example.org/people/Bob> a foaf:Person ;\n",
      "    foaf:age 24 ;\n",
      "    foaf:knows [ a foaf:Person ;\n",
      "            foaf:name \"LINDA\" ] ;\n",
      "    foaf:name \"Bob\" .\n",
      "\n",
      "\n",
      "-----------\n",
      "24\n",
      "@prefix foaf: <http://xmlns.com/foaf/0.1/> .\n",
      "\n",
      "[] a foaf:Person ;\n",
      "    foaf:name \"LINDA\" .\n",
      "\n",
      "\n",
      "-----------\n"
     ]
    }
   ],
   "source": [
    "from rdflib import *\n",
    "\n",
    "# create Bob & Linda\n",
    "bob = URIRef('http://example.org/people/Bob')\n",
    "linda = BNode()\n",
    "\n",
    "# create Literals\n",
    "name = Literal('Bob')\n",
    "age = Literal(24)\n",
    "height = Literal(180)\n",
    "\n",
    "# create graph & add namespace\n",
    "g = Graph()\n",
    "g.bind('foaf', FOAF)\n",
    "\n",
    "# add Bob & Linda to the graph\n",
    "g.add((bob, RDF.type, FOAF.Person))\n",
    "g.set((bob, FOAF.name, name))\n",
    "g.set((bob, FOAF.age, age))\n",
    "g.add((bob, FOAF.knows, linda))\n",
    "g.add((linda, RDF.type, FOAF.Person))\n",
    "g.set((linda, FOAF.name, Literal('LINDA')))\n",
    "\n",
    "# write graph to file\n",
    "g.serialize(destination='program.ttl')\n",
    "\n",
    "# print graph, print values in graph\n",
    "print(g.serialize(), end='\\n-----------\\n')\n",
    "print(g.value(bob, FOAF.age))\n",
    "\n",
    "# remove all triples about bob\n",
    "g.remove((bob, None, None)) \n",
    "print(g.serialize(), end='\\n-----------\\n')"
   ]
  },
  {
   "cell_type": "code",
   "execution_count": 94,
   "metadata": {},
   "outputs": [],
   "source": [
    "from re import compile\n",
    "def date_to_xsd_date(string_with_date):\n",
    "    p = compile('(\\d{2}).(\\d{2}).(\\d{4}).')\n",
    "    day, month, year = p.search(string_with_date).groups()\n",
    "    return f'{year}-{month}-{day}'"
   ]
  },
  {
   "cell_type": "code",
   "execution_count": 107,
   "metadata": {},
   "outputs": [],
   "source": [
    "g = Graph()\n",
    "g.bind('dc', DC)\n",
    "g.bind('foaf', FOAF)\n",
    "g.bind('aiiso', 'http://purl.org/vocab/aiiso/schema#')"
   ]
  },
  {
   "cell_type": "code",
   "execution_count": 108,
   "metadata": {},
   "outputs": [
    {
     "name": "stdout",
     "output_type": "stream",
     "text": [
      "@prefix aiiso: <http://purl.org/vocab/aiiso/schema#> .\n",
      "@prefix dc: <http://purl.org/dc/elements/1.1/> .\n",
      "@prefix xsd: <http://www.w3.org/2001/XMLSchema#> .\n",
      "\n",
      "<http://www.ftn.uns.ac.rs/1385388292/masinsko-ucenje> a aiiso:Course ;\n",
      "    dc:date \"2012-11-16\"^^xsd:date ;\n",
      "    dc:description \"(1) Nadgledano obučavanje:  Linearna regresija (jednostruka i višestruka regresija, metod gradijentnog spusta i njegove varijante, analitičko rešenje u zatvorenoj formi, uticaj outlier-a); Neparametarski pristup (metod k najbližih suseda i krernel regresija);  Metod maksimalne verodostojnosti; Klasifikacija (logistička regresija, perceptron, naivni Bajes, metod potpornih vektora, ansambli klasifikatora).  (2) Pravilan dizajn eksperimenata i selekcija optimalnog modela: adekvatne mere performanse za različite probleme; eksperimentalni postupci (unakrsna validacija, podela na trening/validacioni/test skup, adekvatna selekcija i optimizacija modela); preprilagođavanje i regularizacija (grebena regresija, laso regresija, elastična mreža i njihovo poređenje).  (3) Polu-nadgledano obučavanje (pregled osnovnih koncepata i algoritama).  (4) Nenadgledano obučavanje: klasterovanje (algoritam k-sredina i model Gausovih mešavina); redukcija dimenzionalnosti (analiza glavnih komponenti).   (5) Praktični saveti za primenu algoritama mašinskog učenja.  (6) Teorija učenja: Hoeffdingova nejednakost; Vapnik-Červonenkinsova dimenzija; Nagodba aproksimacije i generalizacije. \" ;\n",
      "    dc:title \"Mašinsko učenje\" .\n",
      "\n",
      "<http://www.ftn.uns.ac.rs/n1108388269/softverski-obrasci-i-komponente> a aiiso:Course ;\n",
      "    dc:date \"2007-10-01\"^^xsd:date ;\n",
      "    dc:description \"Teorijska nastava: Osnovne definicije i istorijat razvoja softverskih obrazaca. Kategorije softverskih obrazaca; Dizajn obrasci; Arhitektonski obrasci. Pregled popularnih obrazaca. Prednosti i mane. Katalozi softverskih obrazaca. Antiobrasci (Anti-Patterns);osnovne osobine; pregled karakterističnih antiobrazaca. Komponentno bazirani razvoj; osnovne definicije; istorijat. Pregled postojećih komponentnih modela. Prednosti i mane. Modelovanje arhitekture aplikacija baziranih na komponentama. Tržišta softverskih komponenti. Praktična nastava: obuka za korišćenje modernih alata za izradu softvera baziranog na komponentama; implementacija projektnog zadatka upotrebom savremenih alata i okvira za razvoj baziran na komponentama uz akcenat na pravilnu primenu softverskih obrazaca.\" ;\n",
      "    dc:title \"Softverski obrasci i komponente\" .\n",
      "\n",
      "\n"
     ]
    }
   ],
   "source": [
    "\n",
    "\n",
    "for course in courses[30:32]:\n",
    "    course_node = URIRef(course['url'])\n",
    "\n",
    "    aiiso_course = URIRef('http://purl.org/vocab/aiiso/schema#Course')\n",
    "    g.add((course_node, RDF.type, aiiso_course))\n",
    "    g.add((course_node, DC.title, Literal(course['naziv'])))\n",
    "    g.add((course_node, DC.description, Literal(course['sadrzaj'])))\n",
    "    g.add((course_node,\n",
    "           DC.date,\n",
    "           Literal(date_to_xsd_date(course['osnovneInformacije']), datatype=XSD.date)))\n",
    "\n",
    "\n",
    "\n",
    "print(g.serialize(format='turtle'))\n",
    "# print(g.serialize(format='turtle', destination='courses.ttl'))\n"
   ]
  },
  {
   "cell_type": "code",
   "execution_count": 103,
   "metadata": {},
   "outputs": [
    {
     "data": {
      "text/plain": [
       "<Graph identifier=N7cc4d7ef53804551b98ea3c313db17c4 (<class 'rdflib.graph.Graph'>)>"
      ]
     },
     "execution_count": 103,
     "metadata": {},
     "output_type": "execute_result"
    }
   ],
   "source": [
    "professors = courses[30]['izvodjaciNastave']\n",
    "professor_node = BNode()\n",
    "g.add((professor_node, RDF.type, FOAF.Person))\n",
    "g.add((professor_node, FOAF.name, Literal(professors[0]['punoIme'])))"
   ]
  },
  {
   "cell_type": "code",
   "execution_count": 106,
   "metadata": {},
   "outputs": [
    {
     "name": "stdout",
     "output_type": "stream",
     "text": [
      "@prefix dc: <http://purl.org/dc/elements/1.1/> .\n",
      "@prefix foaf: <http://xmlns.com/foaf/0.1/> .\n",
      "@prefix ns1: <http://purl.org/vocab/aiiso/schema#> .\n",
      "@prefix xsd: <http://www.w3.org/2001/XMLSchema#> .\n",
      "\n",
      "<http://www.ftn.uns.ac.rs/1385388292/masinsko-ucenje> a ns1:Course ;\n",
      "    dc:date \"2012-11-16\"^^xsd:date ;\n",
      "    dc:title \"Mašinsko učenje\" .\n",
      "\n",
      "<http://www.ftn.uns.ac.rs/n1108388269/softverski-obrasci-i-komponente> a ns1:Course ;\n",
      "    dc:date \"2007-10-01\"^^xsd:date ;\n",
      "    dc:title \"Softverski obrasci i komponente\" .\n",
      "\n",
      "[] a foaf:Person ;\n",
      "    ns1:teaches <http://www.ftn.uns.ac.rs/n1108388269/softverski-obrasci-i-komponente> ;\n",
      "    foaf:name \"Kovačević dr Aleksandar\" .\n",
      "\n",
      "\n"
     ]
    }
   ],
   "source": [
    "aiiso_teaches = URIRef('http://purl.org/vocab/aiiso/schema#teaches')\n",
    "g.add((professor_node, aiiso_teaches, course_node))\n",
    "\n",
    "print(g.serialize())"
   ]
  }
 ],
 "metadata": {
  "interpreter": {
   "hash": "0f004fffeac064b2498a7ed2c5239d8895a7d270f75a0962253b0f63a90dd27b"
  },
  "kernelspec": {
   "display_name": "Python 3 (ipykernel)",
   "language": "python",
   "name": "python3"
  },
  "language_info": {
   "codemirror_mode": {
    "name": "ipython",
    "version": 3
   },
   "file_extension": ".py",
   "mimetype": "text/x-python",
   "name": "python",
   "nbconvert_exporter": "python",
   "pygments_lexer": "ipython3",
   "version": "3.9.5"
  }
 },
 "nbformat": 4,
 "nbformat_minor": 2
}
