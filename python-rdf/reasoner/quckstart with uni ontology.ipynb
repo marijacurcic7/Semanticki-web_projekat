{
 "cells": [
  {
   "cell_type": "markdown",
   "metadata": {},
   "source": [
    "## Example\n",
    "Take has doneBy property. That property has rdfs:range foaf:Person, meaning that one take is done by one person.\n",
    "Even if foaf:Person isn't explicitly defined, reasoner shoud infer that object on doneBy property must be a type foaf:Person."
   ]
  },
  {
   "cell_type": "code",
   "execution_count": 11,
   "metadata": {},
   "outputs": [
    {
     "name": "stdout",
     "output_type": "stream",
     "text": [
      "@prefix foaf: <http://xmlns.com/foaf/0.1/> .\n",
      "@prefix uni: <http://www.semanticweb.org/marija/ontologies/2021/university#> .\n",
      "\n",
      "<http://www.example.com/take/1> a uni:Take ;\n",
      "    uni:doneBy <http://www.example.com/person/pera> .\n",
      "\n",
      "<http://www.example.com/person/pera> foaf:name \"Pera Peric\" .\n",
      "\n",
      "\n"
     ]
    }
   ],
   "source": [
    "from rdflib import *\n",
    "from owlrl import DeductiveClosure, OWLRL_Semantics\n",
    "\n",
    "# Create a Graph\n",
    "g = Graph()\n",
    "UNI = Namespace('http://www.semanticweb.org/marija/ontologies/2021/university#')\n",
    "g.bind('uni', UNI)\n",
    "\n",
    "# create a person without explicitly defining FOAF.Person as a RDF.Type\n",
    "pera = URIRef('http://www.example.com/person/pera')\n",
    "g.add((pera, FOAF.name, Literal('Pera Peric')))\n",
    "\n",
    "# create a take\n",
    "take = URIRef('http://www.example.com/take/1')\n",
    "g.add((take, RDF.type, UNI.Take))\n",
    "\n",
    "# connect take and person\n",
    "g.add((take, UNI.doneBy, pera))\n",
    "\n",
    "# view graph\n",
    "print(g.serialize())"
   ]
  },
  {
   "cell_type": "code",
   "execution_count": 13,
   "metadata": {},
   "outputs": [
    {
     "data": {
      "text/plain": [
       "<Graph identifier=Nd4f2db2b1c8d4b1b847c0abfb03bb688 (<class 'rdflib.graph.Graph'>)>"
      ]
     },
     "execution_count": 13,
     "metadata": {},
     "output_type": "execute_result"
    }
   ],
   "source": [
    "# load ontology\n",
    "g.parse('../ontologije/university_ontology.ttl')\n",
    "# turn on reasoner\n",
    "DeductiveClosure(OWLRL_Semantics).expand(g)\n",
    "# serialize after reasoning\n",
    "g.serialize('uni-test.ttl')"
   ]
  },
  {
   "cell_type": "code",
   "execution_count": 14,
   "metadata": {},
   "outputs": [
    {
     "data": {
      "text/plain": [
       "[rdflib.term.URIRef('http://www.example.com/person/pera')]"
      ]
     },
     "execution_count": 14,
     "metadata": {},
     "output_type": "execute_result"
    }
   ],
   "source": [
    "# create a query, find a person which is not explicitly defined as a foaf:Person\n",
    "query = \"\"\"\n",
    "SELECT ?person\n",
    "WHERE {\n",
    "  ?person rdf:type foaf:Person .\n",
    "}\n",
    "\"\"\"\n",
    "\n",
    "[row.person for row in g.query(query)]\n",
    "# treba da vrati osobu, ali ne radi"
   ]
  }
 ],
 "metadata": {
  "interpreter": {
   "hash": "1894a7d4a65cd656ab7c7aa425de0718b6b169d832cbc29a7b350b21d32f5ef8"
  },
  "kernelspec": {
   "display_name": "Python 3.10.0 64-bit ('.venv': venv)",
   "language": "python",
   "name": "python3"
  },
  "language_info": {
   "codemirror_mode": {
    "name": "ipython",
    "version": 3
   },
   "file_extension": ".py",
   "mimetype": "text/x-python",
   "name": "python",
   "nbconvert_exporter": "python",
   "pygments_lexer": "ipython3",
   "version": "3.10.0"
  },
  "orig_nbformat": 4
 },
 "nbformat": 4,
 "nbformat_minor": 2
}
