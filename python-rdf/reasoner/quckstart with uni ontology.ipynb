{
 "cells": [
  {
   "cell_type": "code",
   "execution_count": 74,
   "metadata": {},
   "outputs": [
    {
     "name": "stdout",
     "output_type": "stream",
     "text": [
      "@prefix uni: <http://www.semanticweb.org/marija/ontologies/2021/university#> .\n",
      "@prefix xsd: <http://www.w3.org/2001/XMLSchema#> .\n",
      "\n",
      "<http://www.sotis/tests/1/answer/1> a uni:MyAnswer ;\n",
      "    uni:correct true .\n",
      "\n",
      "\n"
     ]
    }
   ],
   "source": [
    "from rdflib import *\n",
    "from owlrl import DeductiveClosure, OWLRL_Semantics\n",
    "# Create a Graph\n",
    "g = Graph()\n",
    "UNI = Namespace('http://www.semanticweb.org/marija/ontologies/2021/university#')\n",
    "g.bind('uni', UNI)\n",
    "answer = URIRef('http://www.sotis/tests/1/answer/1')\n",
    "g.add((answer, RDF.type, UNI.MyAnswer))\n",
    "g.add((answer, UNI.correct, Literal(True, datatype=XSD.boolean)))\n",
    "\n",
    "# view graph\n",
    "print(g.serialize())"
   ]
  },
  {
   "cell_type": "code",
   "execution_count": 75,
   "metadata": {},
   "outputs": [
    {
     "data": {
      "text/plain": [
       "<Graph identifier=Nc9b5446e694f4b27b86a71a1fac95e41 (<class 'rdflib.graph.Graph'>)>"
      ]
     },
     "execution_count": 75,
     "metadata": {},
     "output_type": "execute_result"
    }
   ],
   "source": [
    "# load ontology\n",
    "g.parse('../ontologije/university_ontology.ttl')"
   ]
  },
  {
   "cell_type": "code",
   "execution_count": 76,
   "metadata": {},
   "outputs": [],
   "source": [
    "DeductiveClosure(OWLRL_Semantics).expand(g)"
   ]
  },
  {
   "cell_type": "code",
   "execution_count": 77,
   "metadata": {},
   "outputs": [
    {
     "data": {
      "text/plain": [
       "<Graph identifier=Nc9b5446e694f4b27b86a71a1fac95e41 (<class 'rdflib.graph.Graph'>)>"
      ]
     },
     "execution_count": 77,
     "metadata": {},
     "output_type": "execute_result"
    }
   ],
   "source": [
    "g.serialize('uni-test.ttl')"
   ]
  },
  {
   "cell_type": "code",
   "execution_count": 79,
   "metadata": {},
   "outputs": [
    {
     "data": {
      "text/plain": [
       "[rdflib.term.URIRef('http://www.sotis/tests/1/answer/1')]"
      ]
     },
     "execution_count": 79,
     "metadata": {},
     "output_type": "execute_result"
    }
   ],
   "source": [
    "query = \"\"\"\n",
    "SELECT ?take\n",
    "WHERE {\n",
    "  ?take a uni:Take .\n",
    "}\n",
    "\"\"\"\n",
    "\n",
    "[row.take for row in g.query(query)]"
   ]
  },
  {
   "cell_type": "markdown",
   "metadata": {},
   "source": [
    "## Example 2"
   ]
  },
  {
   "cell_type": "code",
   "execution_count": 81,
   "metadata": {},
   "outputs": [
    {
     "name": "stdout",
     "output_type": "stream",
     "text": [
      "@prefix foaf: <http://xmlns.com/foaf/0.1/> .\n",
      "@prefix uni: <http://www.semanticweb.org/marija/ontologies/2021/university#> .\n",
      "\n",
      "<http://www.example.com/person/pera> foaf:name \"Pera Peric\" .\n",
      "\n",
      "[] a uni:Take ;\n",
      "    uni:doneBy <http://www.example.com/person/pera> .\n",
      "\n",
      "\n"
     ]
    }
   ],
   "source": [
    "from rdflib import *\n",
    "from owlrl import DeductiveClosure, OWLRL_Semantics\n",
    "# Create a Graph\n",
    "g = Graph()\n",
    "UNI = Namespace('http://www.semanticweb.org/marija/ontologies/2021/university#')\n",
    "g.bind('uni', UNI)\n",
    "\n",
    "# create a person\n",
    "pera = URIRef('http://www.example.com/person/pera')\n",
    "g.add((pera, FOAF.name, Literal('Pera Peric')))\n",
    "# create a take\n",
    "take = BNode()\n",
    "g.add((take, RDF.type, UNI.Take))\n",
    "# connect take and person\n",
    "g.add((take, UNI.doneBy, pera))\n",
    "\n",
    "# view graph\n",
    "print(g.serialize())"
   ]
  },
  {
   "cell_type": "code",
   "execution_count": 82,
   "metadata": {},
   "outputs": [
    {
     "data": {
      "text/plain": [
       "<Graph identifier=Ncb30e201fa2745058f7775b0f3d7d994 (<class 'rdflib.graph.Graph'>)>"
      ]
     },
     "execution_count": 82,
     "metadata": {},
     "output_type": "execute_result"
    }
   ],
   "source": [
    "# load ontology\n",
    "g.parse('../ontologije/university_ontology.ttl')\n",
    "# turn on reasoner\n",
    "DeductiveClosure(OWLRL_Semantics).expand(g)\n",
    "# serialize after reasoning\n",
    "g.serialize('uni-test.ttl')"
   ]
  },
  {
   "cell_type": "code",
   "execution_count": 88,
   "metadata": {},
   "outputs": [
    {
     "data": {
      "text/plain": [
       "[]"
      ]
     },
     "execution_count": 88,
     "metadata": {},
     "output_type": "execute_result"
    }
   ],
   "source": [
    "# create a query, find a person\n",
    "query = \"\"\"\n",
    "SELECT ?person\n",
    "WHERE {\n",
    "  ?person rdfs:subClassOf foaf:Person .\n",
    "}\n",
    "\"\"\"\n",
    "\n",
    "[row.person for row in g.query(query)]"
   ]
  }
 ],
 "metadata": {
  "interpreter": {
   "hash": "1894a7d4a65cd656ab7c7aa425de0718b6b169d832cbc29a7b350b21d32f5ef8"
  },
  "kernelspec": {
   "display_name": "Python 3.10.0 64-bit ('.venv': venv)",
   "language": "python",
   "name": "python3"
  },
  "language_info": {
   "codemirror_mode": {
    "name": "ipython",
    "version": 3
   },
   "file_extension": ".py",
   "mimetype": "text/x-python",
   "name": "python",
   "nbconvert_exporter": "python",
   "pygments_lexer": "ipython3",
   "version": "3.10.0"
  },
  "orig_nbformat": 4
 },
 "nbformat": 4,
 "nbformat_minor": 2
}
