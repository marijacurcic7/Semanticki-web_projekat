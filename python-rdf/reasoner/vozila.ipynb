{
 "cells": [
  {
   "cell_type": "code",
   "execution_count": 8,
   "metadata": {},
   "outputs": [
    {
     "name": "stdout",
     "output_type": "stream",
     "text": [
      "@prefix ex: <http://example.org/schemas/vehicles#> .\n",
      "@prefix exthings: <http://example.org/instances#> .\n",
      "@prefix rdf: <http://www.w3.org/1999/02/22-rdf-syntax-ns#> .\n",
      "@prefix rdfs: <http://www.w3.org/2000/01/rdf-schema#> .\n",
      "@prefix xsd: <http://www.w3.org/2001/XMLSchema#> .\n",
      "\n",
      "ex:Person a rdfs:Class .\n",
      "\n",
      "exthings:johnSmithsCar a ex:PassengerVehicle ;\n",
      "    ex:primaryDriver <http://www.example.org/staffid/85740> ;\n",
      "    ex:rearSeatLegRoom 127 ;\n",
      "    ex:registeredTo <http://www.example.org/staffid/85740> .\n",
      "\n",
      "ex:primaryDriver a rdf:Property ;\n",
      "    rdfs:subPropertyOf ex:driver .\n",
      "\n",
      "ex:rearSeatLegRoom a rdf:Property ;\n",
      "    rdfs:domain ex:PassengerVehicle ;\n",
      "    rdfs:range xsd:integer .\n",
      "\n",
      "ex:registeredTo a rdf:Property ;\n",
      "    rdfs:domain ex:MotorVehicle ;\n",
      "    rdfs:range ex:Person .\n",
      "\n",
      "ex:driver a rdf:Property ;\n",
      "    rdfs:domain ex:MotorVehicle ;\n",
      "    rdfs:range ex:Person .\n",
      "\n",
      "\n"
     ]
    }
   ],
   "source": [
    "from rdflib import *\n",
    "from owlrl import DeductiveClosure, OWLRL_Semantics\n",
    "# Create a Graph\n",
    "g = Graph()\n",
    "\n",
    "# load data\n",
    "g.parse('vozila_data.ttl')\n",
    "\n",
    "# load ontology\n",
    "g.parse('vozila_ont.ttl')\n",
    "\n",
    "# view graph\n",
    "print(g.serialize())"
   ]
  },
  {
   "cell_type": "code",
   "execution_count": 9,
   "metadata": {},
   "outputs": [
    {
     "data": {
      "text/plain": [
       "<Graph identifier=N5114bb48f8974c0a851e4e1811c4be5d (<class 'rdflib.graph.Graph'>)>"
      ]
     },
     "execution_count": 9,
     "metadata": {},
     "output_type": "execute_result"
    }
   ],
   "source": [
    "# turn on reasoner\n",
    "DeductiveClosure(OWLRL_Semantics).expand(g)\n",
    "# save data\n",
    "g.serialize('vozila-test.ttl')"
   ]
  },
  {
   "cell_type": "code",
   "execution_count": 11,
   "metadata": {},
   "outputs": [
    {
     "data": {
      "text/plain": [
       "[rdflib.term.URIRef('http://www.example.org/staffid/85740')]"
      ]
     },
     "execution_count": 11,
     "metadata": {},
     "output_type": "execute_result"
    }
   ],
   "source": [
    "query = \"\"\"\n",
    "SELECT ?person\n",
    "WHERE {\n",
    "  ?person a ex:Person .\n",
    "}\n",
    "\"\"\"\n",
    "[row.person for row in g.query(query)]"
   ]
  }
 ],
 "metadata": {
  "interpreter": {
   "hash": "1894a7d4a65cd656ab7c7aa425de0718b6b169d832cbc29a7b350b21d32f5ef8"
  },
  "kernelspec": {
   "display_name": "Python 3.10.0 64-bit ('.venv': venv)",
   "language": "python",
   "name": "python3"
  },
  "language_info": {
   "codemirror_mode": {
    "name": "ipython",
    "version": 3
   },
   "file_extension": ".py",
   "mimetype": "text/x-python",
   "name": "python",
   "nbconvert_exporter": "python",
   "pygments_lexer": "ipython3",
   "version": "3.10.0"
  },
  "orig_nbformat": 4
 },
 "nbformat": 4,
 "nbformat_minor": 2
}
