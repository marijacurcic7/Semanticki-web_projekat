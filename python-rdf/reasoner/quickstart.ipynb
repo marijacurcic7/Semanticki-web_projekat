{
 "cells": [
  {
   "cell_type": "markdown",
   "metadata": {},
   "source": [
    "# OWL reasoner"
   ]
  },
  {
   "cell_type": "markdown",
   "metadata": {},
   "source": [
    "### Simple example\n",
    "skypeID is a subproperty of nick. \n",
    "Create two persons, on which has defined skypeID and second which has explicitly defined nick property.\n",
    "When query is created to return all nick values, reasoner should return two nick values, because skypeID is a subproperty of nick."
   ]
  },
  {
   "cell_type": "code",
   "execution_count": 37,
   "metadata": {},
   "outputs": [
    {
     "name": "stdout",
     "output_type": "stream",
     "text": [
      "@prefix foaf: <http://xmlns.com/foaf/0.1/> .\n",
      "\n",
      "<http://example.org/donna> a foaf:Person ;\n",
      "    foaf:mbox <mailto:donna@example.org> ;\n",
      "    foaf:name \"Donna Fales\" ;\n",
      "    foaf:skypeID \"donna\" .\n",
      "\n",
      "<http://example.org/edward> a foaf:Person ;\n",
      "    foaf:mbox \"e.scissorhands@example.org\" ;\n",
      "    foaf:name \"Edward Scissorhands\" ;\n",
      "    foaf:nick \"ed\" .\n",
      "\n",
      "\n"
     ]
    }
   ],
   "source": [
    "from rdflib import *\n",
    "from owlrl import DeductiveClosure, OWLRL_Semantics\n",
    "\n",
    "# Create a Graph\n",
    "g = Graph()\n",
    "\n",
    "# add a person\n",
    "donna = URIRef(\"http://example.org/donna\")\n",
    "g.add((donna, RDF.type, FOAF.Person))\n",
    "# g.add((donna, FOAF.nick, Literal(\"donna\")))\n",
    "g.add((donna, FOAF.name, Literal(\"Donna Fales\")))\n",
    "g.add((donna, FOAF.mbox, URIRef(\"mailto:donna@example.org\")))\n",
    "g.add((donna, FOAF.skypeID, Literal(\"donna\")))\n",
    "\n",
    "# Add another person\n",
    "ed = URIRef(\"http://example.org/edward\")\n",
    "g.add((ed, RDF.type, FOAF.Person))\n",
    "g.add((ed, FOAF.nick, Literal(\"ed\")))\n",
    "g.add((ed, FOAF.name, Literal(\"Edward Scissorhands\")))\n",
    "g.add((ed, FOAF.mbox, Literal(\"e.scissorhands@example.org\")))\n",
    "\n",
    "# view graph\n",
    "print(g.serialize())"
   ]
  },
  {
   "cell_type": "code",
   "execution_count": 38,
   "metadata": {},
   "outputs": [
    {
     "data": {
      "text/plain": [
       "<Graph identifier=N1a225d97664f48b58c1ecb9bc25dce97 (<class 'rdflib.graph.Graph'>)>"
      ]
     },
     "execution_count": 38,
     "metadata": {},
     "output_type": "execute_result"
    }
   ],
   "source": [
    "# load ontology from a file\n",
    "g.parse('foaf.owl', format='application/rdf+xml')"
   ]
  },
  {
   "cell_type": "code",
   "execution_count": 39,
   "metadata": {},
   "outputs": [
    {
     "data": {
      "text/plain": [
       "<Graph identifier=N1a225d97664f48b58c1ecb9bc25dce97 (<class 'rdflib.graph.Graph'>)>"
      ]
     },
     "execution_count": 39,
     "metadata": {},
     "output_type": "execute_result"
    }
   ],
   "source": [
    "g.serialize('friends.ttl')"
   ]
  },
  {
   "cell_type": "code",
   "execution_count": 40,
   "metadata": {},
   "outputs": [
    {
     "data": {
      "text/plain": [
       "<Graph identifier=N1a225d97664f48b58c1ecb9bc25dce97 (<class 'rdflib.graph.Graph'>)>"
      ]
     },
     "execution_count": 40,
     "metadata": {},
     "output_type": "execute_result"
    }
   ],
   "source": [
    "DeductiveClosure(OWLRL_Semantics).expand(g)\n",
    "g.serialize('friends.ttl')"
   ]
  },
  {
   "cell_type": "code",
   "execution_count": 41,
   "metadata": {},
   "outputs": [
    {
     "data": {
      "text/plain": [
       "['ed', 'donna']"
      ]
     },
     "execution_count": 41,
     "metadata": {},
     "output_type": "execute_result"
    }
   ],
   "source": [
    "query = \"\"\"\n",
    "SELECT ?nick\n",
    "WHERE {\n",
    "  ?person foaf:nick ?nick .\n",
    "}\n",
    "\"\"\"\n",
    "[row.nick.value for row in g.query(query)]"
   ]
  }
 ],
 "metadata": {
  "interpreter": {
   "hash": "1894a7d4a65cd656ab7c7aa425de0718b6b169d832cbc29a7b350b21d32f5ef8"
  },
  "kernelspec": {
   "display_name": "Python 3.10.0 64-bit ('.venv': venv)",
   "language": "python",
   "name": "python3"
  },
  "language_info": {
   "codemirror_mode": {
    "name": "ipython",
    "version": 3
   },
   "file_extension": ".py",
   "mimetype": "text/x-python",
   "name": "python",
   "nbconvert_exporter": "python",
   "pygments_lexer": "ipython3",
   "version": "3.10.0"
  },
  "orig_nbformat": 4
 },
 "nbformat": 4,
 "nbformat_minor": 2
}
