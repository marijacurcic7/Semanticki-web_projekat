{
 "cells": [
  {
   "cell_type": "markdown",
   "metadata": {},
   "source": [
    "# Save courses to RDF"
   ]
  },
  {
   "cell_type": "markdown",
   "metadata": {},
   "source": [
    "## Read data from Firestore"
   ]
  },
  {
   "cell_type": "code",
   "execution_count": 1,
   "metadata": {},
   "outputs": [],
   "source": [
    "# init\n",
    "from os import environ\n",
    "environ['FIRESTORE_EMULATOR_HOST'] = 'localhost:8080'\n",
    "environ['FIREBASE_AUTH_EMULATOR_HOST'] = 'localhost:8083'\n",
    "environ['GOOGLE_APPLICATION_CREDENTIALS'] = '../serviceAccountKey.json'\n",
    "\n",
    "import firebase_admin\n",
    "from firebase_admin import firestore, initialize_app, credentials\n",
    "\n",
    "if not firebase_admin._apps:\n",
    "    cred = credentials.ApplicationDefault()\n",
    "    initialize_app(cred)\n",
    "\n",
    "db = firestore.client()"
   ]
  },
  {
   "cell_type": "code",
   "execution_count": 2,
   "metadata": {},
   "outputs": [
    {
     "data": {
      "text/plain": [
       "'softversko inzenjerstvo i informacione tehnologije'"
      ]
     },
     "execution_count": 2,
     "metadata": {},
     "output_type": "execute_result"
    }
   ],
   "source": [
    "# get a program\n",
    "siit_ref = db.collection(u'programs').document(u'siit')\n",
    "program = siit_ref.get().to_dict()\n",
    "program['naziv']"
   ]
  },
  {
   "cell_type": "code",
   "execution_count": 3,
   "metadata": {},
   "outputs": [],
   "source": [
    "# get courses\n",
    "courses_snapshot = siit_ref.collection(u'courses').stream()\n",
    "courses = [course.to_dict() for course in courses_snapshot]"
   ]
  },
  {
   "cell_type": "markdown",
   "metadata": {},
   "source": [
    "Helper Functions"
   ]
  },
  {
   "cell_type": "code",
   "execution_count": 4,
   "metadata": {},
   "outputs": [],
   "source": [
    "from re import compile\n",
    "def date_to_xsd_date(string_with_date):\n",
    "    p = compile('(\\d{2}).(\\d{2}).(\\d{4}).')\n",
    "    day, month, year = p.search(string_with_date).groups()\n",
    "    return f'{year}-{month}-{day}'"
   ]
  },
  {
   "cell_type": "code",
   "execution_count": 5,
   "metadata": {},
   "outputs": [],
   "source": [
    "from rdflib import *\n",
    "from Aiiso import Aiiso\n",
    "from Uni import UNI\n",
    "g = Graph()\n",
    "\n",
    "g.bind('uni', UNI)\n",
    "g.bind('dc', DC)\n",
    "g.bind('foaf', FOAF)\n",
    "g.bind('aiiso', Aiiso)"
   ]
  },
  {
   "cell_type": "markdown",
   "metadata": {},
   "source": [
    "## Add program to rdf"
   ]
  },
  {
   "cell_type": "code",
   "execution_count": 6,
   "metadata": {},
   "outputs": [
    {
     "data": {
      "text/plain": [
       "<Graph identifier=Ned76cba40b7a45c99618e179429d7994 (<class 'rdflib.graph.Graph'>)>"
      ]
     },
     "execution_count": 6,
     "metadata": {},
     "output_type": "execute_result"
    }
   ],
   "source": [
    "program_node = URIRef(program['url'])\n",
    "\n",
    "g.add((program_node, RDF.type, Aiiso.Programme))\n",
    "g.add((program_node, UNI.name, Literal(program['naziv'])))\n",
    "g.add((program_node, UNI.espb, Literal(program['espb'])))\n",
    "g.add((program_node, UNI.semesters, Literal(program['brojSemestara'])))\n",
    "g.add((program_node, UNI.scientificField, Literal(program['naucnoStrucneOblasti'])))\n",
    "g.add((program_node, UNI.levelOfStudy, Literal(program['nivoStudija'])))\n",
    "g.add((program_node, UNI.educationalField, Literal(program['obrazovnoPolje'])))\n",
    "g.add((program_node, UNI.title, Literal(program['zvanje'])))"
   ]
  },
  {
   "cell_type": "markdown",
   "metadata": {},
   "source": [
    "## Write courses to rdf"
   ]
  },
  {
   "cell_type": "code",
   "execution_count": 7,
   "metadata": {},
   "outputs": [],
   "source": [
    "def addProfessors(course, course_node):\n",
    "    professors = course['izvodjaciNastave']\n",
    "    \n",
    "    for prof in professors:\n",
    "        professor_node = BNode()\n",
    "        g.add((course_node, UNI.hasTeachers, professor_node))\n",
    "        \n",
    "        g.add((professor_node, RDF.type, FOAF.Person))\n",
    "        g.add((professor_node, FOAF.name, Literal(prof['punoIme'])))\n",
    "        g.add((professor_node, FOAF.title, Literal(prof['zvanje'])))\n",
    "        g.add((professor_node, UNI.typeOfTeaching,\n",
    "            Literal(prof['vidNastave'])))\n"
   ]
  },
  {
   "cell_type": "code",
   "execution_count": 8,
   "metadata": {},
   "outputs": [],
   "source": [
    "def addLiterature(course, course_node):\n",
    "    literature = course['literatura']\n",
    "\n",
    "    for lit in literature:\n",
    "        book_node = BNode()\n",
    "\n",
    "        g.add((course_node, UNI.hasLiterature, book_node))\n",
    "        g.add((book_node, RDF.type, UNI.Book))\n",
    "        if lit['naziv']: g.add((book_node, DC.title, Literal(lit['naziv'])))\n",
    "        if lit['autori']: g.add((book_node, DC.creator, Literal(lit['autori'])))\n",
    "        if lit['godina']: g.add((book_node, DC.date, Literal(lit['godina'])))\n",
    "        if lit['izdavac']: g.add((book_node, DC.publisher, Literal(lit['izdavac'])))\n",
    "        if lit['jezik']: g.add((book_node, DC.language, Literal(lit['jezik'])))\n"
   ]
  },
  {
   "cell_type": "code",
   "execution_count": 9,
   "metadata": {},
   "outputs": [],
   "source": [
    "def addEvaluation(course, course_node):\n",
    "    evaluation = course['formiranjeOcene']\n",
    "    \n",
    "    for e in evaluation:\n",
    "        evaluation_node = BNode()\n",
    "\n",
    "        g.add((course_node, UNI.hasEvaluation, evaluation_node))\n",
    "        g.add((evaluation_node, RDF.type, UNI.Evaluation))\n",
    "        g.add((evaluation_node, UNI.points, Literal(e['brojPoena'])))\n",
    "        g.add((evaluation_node, UNI.required, Literal(e['obavezna'])))\n",
    "        g.add((evaluation_node, UNI.preExamination, Literal(e['predispitna'])))\n",
    "        g.add((evaluation_node, UNI.activity, Literal(e['predmetnaAktivnost'])))"
   ]
  },
  {
   "cell_type": "code",
   "execution_count": 10,
   "metadata": {},
   "outputs": [],
   "source": [
    "for i, course in enumerate(courses):\n",
    "    course_node = URIRef(course['url'])\n",
    "\n",
    "    g.add((course_node, RDF.type, Aiiso.Course))\n",
    "    g.add((course_node, DC.title, Literal(course['naziv'])))\n",
    "    g.add((course_node, DC.description, Literal(course['sadrzaj'])))\n",
    "    g.add((course_node,DC.date, Literal(date_to_xsd_date(course['osnovneInformacije']), datatype=XSD.date)))\n",
    "    g.add((course_node, DC.type, Literal(course['kategorija'])))\n",
    "    g.add((course_node, UNI.scientificField, Literal(course['naucnaOblast'])))\n",
    "\n",
    "    g.add((course_node, UNI.purpose, Literal(course['cilj'])))\n",
    "    g.add((course_node, UNI.espb, Literal(course['espb'])))\n",
    "    g.add((course_node, UNI.year, Literal(course['godina'])))\n",
    "    g.add((course_node, UNI.result, Literal(course['ishod'])))\n",
    "    g.add((course_node, UNI.methodology, Literal(course['metodologijaIzvodjenjaNastave'])))\n",
    "    g.add((course_node, UNI.semester, Literal(course['semestar'])))\n",
    "    \n",
    "    addProfessors(course, course_node)\n",
    "    addLiterature(course, course_node)\n",
    "    addEvaluation(course, course_node)\n"
   ]
  },
  {
   "cell_type": "markdown",
   "metadata": {},
   "source": [
    "## Write tests to rdf"
   ]
  },
  {
   "cell_type": "code",
   "execution_count": 12,
   "metadata": {},
   "outputs": [],
   "source": [
    "def addQuestionsAndAnswers(test, test_node, testuri):\n",
    "    questions_snapshot = db.collection(f'tests/{test[\"id\"]}/questions').stream()\n",
    "\n",
    "    for q in questions_snapshot:\n",
    "        #create question node\n",
    "        question = q.to_dict()\n",
    "        question['id'] = q.id\n",
    "        # question_uri = f'{testuri}/questions/{question[\"id\"]}'\n",
    "        question_node = BNode()\n",
    "        g.add((question_node, RDF.type, UNI.Question))\n",
    "        g.add((question_node, UNI.text, Literal(question['text'])))\n",
    "        g.add((question_node, UNI.points, Literal(question['maxPoints'])))\n",
    "        g.add((question_node, UNI.domainProblem, Literal(question['domainProblemName'])))\n",
    "        \n",
    "        # add question node to the test node\n",
    "        g.add((test_node, UNI.hasQuestions, question_node))\n",
    "\n",
    "        # add possible answers to the question node\n",
    "        [g.add((question_node, UNI.possibleAnswers, Literal(ans))) for ans in question['possibleAnswers']]\n",
    "        \n",
    "        # add correct answers to the question node\n",
    "        correct_answers = db.document(f'tests/{test[\"id\"]}/answers/{question[\"id\"]}').get().to_dict()['correctAnswers']\n",
    "        [g.add((question_node, UNI.correctAnswers, Literal(ans))) for ans in correct_answers]"
   ]
  },
  {
   "cell_type": "code",
   "execution_count": 13,
   "metadata": {},
   "outputs": [],
   "source": [
    "# get tests\n",
    "tests_snapshot = db.collection('tests').stream()\n",
    "\n",
    "for test_snap in tests_snapshot:\n",
    "    test = test_snap.to_dict()\n",
    "    test['id'] = test_snap.id\n",
    "    testuri = \"http://www.sotis/tests/\" + test['id']\n",
    "    test_node = URIRef(testuri)\n",
    "\n",
    "    g.add((test_node, RDF.type, UNI.Test))\n",
    "    g.add((test_node, UNI.name, Literal(test['name'])))\n",
    "    g.add((test_node, UNI.points, Literal(test['maxPoints'])))\n",
    "\n",
    "    # connect test & course. Test has property courseName, by which we can find a course\n",
    "    course_url = next((s for s, p, o in g.triples((None, DC.title, Literal(test['courseName'])))), None)\n",
    "    if(course_url): g.add((test_node, UNI.partOf, course_url))\n",
    "    addQuestionsAndAnswers(test, test_node, testuri)"
   ]
  },
  {
   "cell_type": "markdown",
   "metadata": {},
   "source": [
    "## Write takes to rdf"
   ]
  },
  {
   "cell_type": "code",
   "execution_count": 14,
   "metadata": {},
   "outputs": [],
   "source": [
    "def addMyAnswers(user, take, take_node):\n",
    "    answers_snapshot = db.collection(f'users/{user[\"uid\"]}/takes/{take[\"id\"]}/myAnswers').stream()\n",
    "    \n",
    "    for ans_snap in answers_snapshot:\n",
    "        answer = ans_snap.to_dict()\n",
    "        answer_node = BNode()\n",
    "        g.add((take_node, UNI.hasAnswers, answer_node))\n",
    "        g.add((answer_node, RDF.type, UNI.MyAnswer))\n",
    "        g.add((answer_node, UNI.points, Literal(answer['points'])))\n",
    "        g.add((answer_node, UNI.correct, Literal(answer['correct'])))\n",
    "        [g.add((answer_node, UNI.answersList, Literal(ans))) for ans in answer['myAnswers']]\n",
    "        "
   ]
  },
  {
   "cell_type": "code",
   "execution_count": 15,
   "metadata": {},
   "outputs": [],
   "source": [
    "def addTakes(user):\n",
    "    takes_snapshot = db.collection(f'users/{user[\"uid\"]}/takes').stream()\n",
    "    for take_snap in takes_snapshot:\n",
    "        take = take_snap.to_dict()\n",
    "        take['id'] = take_snap.id\n",
    "        take_node = URIRef(f'http://www.sotis/takes/{take[\"id\"]}')\n",
    "\n",
    "        # add take to the graph\n",
    "        g.add((take_node, RDF.type, UNI.Take))\n",
    "        g.add((take_node, UNI.startTime, Literal(take['startTime'])))\n",
    "        g.add((take_node, UNI.endTime, Literal(take['endTime'])))\n",
    "        g.add((take_node, UNI.points, Literal(take['points'])))\n",
    "        g.add((take_node, UNI.passed, Literal(take['passed'])))\n",
    "        \n",
    "        test_node = URIRef(f'http://www.sotis/tests/{take[\"testId\"]}')\n",
    "        g.add((take_node, UNI.partOf, test_node))\n",
    "\n",
    "        user_node = URIRef(f'http://www.sotis/users/{u.id}')\n",
    "        g.add((user_node, RDF.type, FOAF.Person))\n",
    "        g.add((user_node, FOAF.name, Literal(user['displayName'])))    \n",
    "        g.add((take_node, UNI.doneBy, user_node))\n",
    "    \n",
    "        addMyAnswers(user, take, take_node)"
   ]
  },
  {
   "cell_type": "code",
   "execution_count": 16,
   "metadata": {},
   "outputs": [],
   "source": [
    "users_snapshot = db.collection(u'users').stream()\n",
    "for u in users_snapshot:\n",
    "    user = u.to_dict()\n",
    "    if(user['role'] == \"student\"):\n",
    "        addTakes(user)\n"
   ]
  },
  {
   "cell_type": "code",
   "execution_count": 19,
   "metadata": {},
   "outputs": [
    {
     "data": {
      "text/plain": [
       "<Graph identifier=Ned76cba40b7a45c99618e179429d7994 (<class 'rdflib.graph.Graph'>)>"
      ]
     },
     "execution_count": 19,
     "metadata": {},
     "output_type": "execute_result"
    }
   ],
   "source": [
    "# save rdf data into file\n",
    "g.serialize('uni.ttl')"
   ]
  }
 ],
 "metadata": {
  "interpreter": {
   "hash": "0f004fffeac064b2498a7ed2c5239d8895a7d270f75a0962253b0f63a90dd27b"
  },
  "kernelspec": {
   "display_name": "Python 3 (ipykernel)",
   "language": "python",
   "name": "python3"
  },
  "language_info": {
   "codemirror_mode": {
    "name": "ipython",
    "version": 3
   },
   "file_extension": ".py",
   "mimetype": "text/x-python",
   "name": "python",
   "nbconvert_exporter": "python",
   "pygments_lexer": "ipython3",
   "version": "3.10.0"
  }
 },
 "nbformat": 4,
 "nbformat_minor": 2
}
