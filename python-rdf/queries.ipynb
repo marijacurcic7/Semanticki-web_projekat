{
 "cells": [
  {
   "cell_type": "markdown",
   "metadata": {},
   "source": [
    "# Svi profesori na nekom predmetu"
   ]
  },
  {
   "cell_type": "code",
   "execution_count": 1,
   "metadata": {},
   "outputs": [],
   "source": [
    "# init\n",
    "from rdflib import *\n",
    "from Aiiso import Aiiso\n",
    "from os import environ\n",
    "environ['FIRESTORE_EMULATOR_HOST'] = 'localhost:8080'\n",
    "environ['FIREBASE_AUTH_EMULATOR_HOST'] = 'localhost:8083'\n",
    "environ['GOOGLE_APPLICATION_CREDENTIALS'] = '../serviceAccountKey.json'\n",
    "\n",
    "import firebase_admin\n",
    "from firebase_admin import firestore, initialize_app, credentials\n",
    "\n",
    "if not firebase_admin._apps:\n",
    "    cred = credentials.ApplicationDefault()\n",
    "    initialize_app(cred)\n",
    "\n",
    "db = firestore.client()\n",
    "\n",
    "# get a program\n",
    "siit_ref = db.collection(u'programs').document(u'siit')\n",
    "program = siit_ref.get().to_dict()\n",
    "# get courses\n",
    "courses_snapshot = siit_ref.collection(u'courses').stream()\n",
    "courses = [course.to_dict() for course in courses_snapshot]\n",
    "\n",
    "# create graph\n",
    "g = Graph()\n",
    "uni = Namespace('http://www.semanticweb.org/marija/ontologies/2021/university.owl')\n",
    "g.bind('uni', uni)\n",
    "g.bind('dc', DC)\n",
    "g.bind('foaf', FOAF)"
   ]
  },
  {
   "cell_type": "markdown",
   "metadata": {},
   "source": [
    "## Q1 - Vrati sve profesore na nekom predmetu"
   ]
  },
  {
   "cell_type": "code",
   "execution_count": null,
   "metadata": {},
   "outputs": [],
   "source": []
  }
 ],
 "metadata": {
  "interpreter": {
   "hash": "1894a7d4a65cd656ab7c7aa425de0718b6b169d832cbc29a7b350b21d32f5ef8"
  },
  "kernelspec": {
   "display_name": "Python 3.10.0 64-bit ('.venv': venv)",
   "language": "python",
   "name": "python3"
  },
  "language_info": {
   "codemirror_mode": {
    "name": "ipython",
    "version": 3
   },
   "file_extension": ".py",
   "mimetype": "text/x-python",
   "name": "python",
   "nbconvert_exporter": "python",
   "pygments_lexer": "ipython3",
   "version": "3.10.0"
  },
  "orig_nbformat": 4
 },
 "nbformat": 4,
 "nbformat_minor": 2
}
